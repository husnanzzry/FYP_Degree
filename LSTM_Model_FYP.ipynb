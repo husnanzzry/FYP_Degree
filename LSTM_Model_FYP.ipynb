{
  "nbformat": 4,
  "nbformat_minor": 0,
  "metadata": {
    "colab": {
      "provenance": [],
      "authorship_tag": "ABX9TyMYqMqCKhfQRtKWK/aZDPjR",
      "include_colab_link": true
    },
    "kernelspec": {
      "name": "python3",
      "display_name": "Python 3"
    },
    "language_info": {
      "name": "python"
    }
  },
  "cells": [
    {
      "cell_type": "markdown",
      "metadata": {
        "id": "view-in-github",
        "colab_type": "text"
      },
      "source": [
        "<a href=\"https://colab.research.google.com/github/husnanzzry/FYP_Degree/blob/main/LSTM_Model_FYP.ipynb\" target=\"_parent\"><img src=\"https://colab.research.google.com/assets/colab-badge.svg\" alt=\"Open In Colab\"/></a>"
      ]
    },
    {
      "cell_type": "code",
      "execution_count": null,
      "metadata": {
        "colab": {
          "base_uri": "https://localhost:8080/"
        },
        "id": "GQ18Kd5F3uKe",
        "outputId": "2931cbf0-a60f-46eb-8260-5c8cf2166554"
      },
      "outputs": [
        {
          "output_type": "stream",
          "name": "stdout",
          "text": [
            "Requirement already satisfied: matplotlib-venn in /usr/local/lib/python3.10/dist-packages (0.11.10)\n",
            "Requirement already satisfied: matplotlib in /usr/local/lib/python3.10/dist-packages (from matplotlib-venn) (3.7.1)\n",
            "Requirement already satisfied: numpy in /usr/local/lib/python3.10/dist-packages (from matplotlib-venn) (1.25.2)\n",
            "Requirement already satisfied: scipy in /usr/local/lib/python3.10/dist-packages (from matplotlib-venn) (1.11.4)\n",
            "Requirement already satisfied: contourpy>=1.0.1 in /usr/local/lib/python3.10/dist-packages (from matplotlib->matplotlib-venn) (1.2.1)\n",
            "Requirement already satisfied: cycler>=0.10 in /usr/local/lib/python3.10/dist-packages (from matplotlib->matplotlib-venn) (0.12.1)\n",
            "Requirement already satisfied: fonttools>=4.22.0 in /usr/local/lib/python3.10/dist-packages (from matplotlib->matplotlib-venn) (4.53.0)\n",
            "Requirement already satisfied: kiwisolver>=1.0.1 in /usr/local/lib/python3.10/dist-packages (from matplotlib->matplotlib-venn) (1.4.5)\n",
            "Requirement already satisfied: packaging>=20.0 in /usr/local/lib/python3.10/dist-packages (from matplotlib->matplotlib-venn) (24.1)\n",
            "Requirement already satisfied: pillow>=6.2.0 in /usr/local/lib/python3.10/dist-packages (from matplotlib->matplotlib-venn) (9.4.0)\n",
            "Requirement already satisfied: pyparsing>=2.3.1 in /usr/local/lib/python3.10/dist-packages (from matplotlib->matplotlib-venn) (3.1.2)\n",
            "Requirement already satisfied: python-dateutil>=2.7 in /usr/local/lib/python3.10/dist-packages (from matplotlib->matplotlib-venn) (2.8.2)\n",
            "Requirement already satisfied: six>=1.5 in /usr/local/lib/python3.10/dist-packages (from python-dateutil>=2.7->matplotlib->matplotlib-venn) (1.16.0)\n"
          ]
        }
      ],
      "source": [
        "!pip install matplotlib-venn"
      ]
    },
    {
      "cell_type": "code",
      "source": [
        "!pip install tensorflow"
      ],
      "metadata": {
        "id": "-I0pwZu6sLzF",
        "colab": {
          "base_uri": "https://localhost:8080/"
        },
        "outputId": "772cb0f4-bdfa-40c5-a2a6-0d20a420d642"
      },
      "execution_count": null,
      "outputs": [
        {
          "output_type": "stream",
          "name": "stdout",
          "text": [
            "Requirement already satisfied: tensorflow in /usr/local/lib/python3.10/dist-packages (2.15.0)\n",
            "Requirement already satisfied: absl-py>=1.0.0 in /usr/local/lib/python3.10/dist-packages (from tensorflow) (1.4.0)\n",
            "Requirement already satisfied: astunparse>=1.6.0 in /usr/local/lib/python3.10/dist-packages (from tensorflow) (1.6.3)\n",
            "Requirement already satisfied: flatbuffers>=23.5.26 in /usr/local/lib/python3.10/dist-packages (from tensorflow) (24.3.25)\n",
            "Requirement already satisfied: gast!=0.5.0,!=0.5.1,!=0.5.2,>=0.2.1 in /usr/local/lib/python3.10/dist-packages (from tensorflow) (0.5.4)\n",
            "Requirement already satisfied: google-pasta>=0.1.1 in /usr/local/lib/python3.10/dist-packages (from tensorflow) (0.2.0)\n",
            "Requirement already satisfied: h5py>=2.9.0 in /usr/local/lib/python3.10/dist-packages (from tensorflow) (3.9.0)\n",
            "Requirement already satisfied: libclang>=13.0.0 in /usr/local/lib/python3.10/dist-packages (from tensorflow) (18.1.1)\n",
            "Requirement already satisfied: ml-dtypes~=0.2.0 in /usr/local/lib/python3.10/dist-packages (from tensorflow) (0.2.0)\n",
            "Requirement already satisfied: numpy<2.0.0,>=1.23.5 in /usr/local/lib/python3.10/dist-packages (from tensorflow) (1.25.2)\n",
            "Requirement already satisfied: opt-einsum>=2.3.2 in /usr/local/lib/python3.10/dist-packages (from tensorflow) (3.3.0)\n",
            "Requirement already satisfied: packaging in /usr/local/lib/python3.10/dist-packages (from tensorflow) (24.1)\n",
            "Requirement already satisfied: protobuf!=4.21.0,!=4.21.1,!=4.21.2,!=4.21.3,!=4.21.4,!=4.21.5,<5.0.0dev,>=3.20.3 in /usr/local/lib/python3.10/dist-packages (from tensorflow) (3.20.3)\n",
            "Requirement already satisfied: setuptools in /usr/local/lib/python3.10/dist-packages (from tensorflow) (67.7.2)\n",
            "Requirement already satisfied: six>=1.12.0 in /usr/local/lib/python3.10/dist-packages (from tensorflow) (1.16.0)\n",
            "Requirement already satisfied: termcolor>=1.1.0 in /usr/local/lib/python3.10/dist-packages (from tensorflow) (2.4.0)\n",
            "Requirement already satisfied: typing-extensions>=3.6.6 in /usr/local/lib/python3.10/dist-packages (from tensorflow) (4.12.2)\n",
            "Requirement already satisfied: wrapt<1.15,>=1.11.0 in /usr/local/lib/python3.10/dist-packages (from tensorflow) (1.14.1)\n",
            "Requirement already satisfied: tensorflow-io-gcs-filesystem>=0.23.1 in /usr/local/lib/python3.10/dist-packages (from tensorflow) (0.37.0)\n",
            "Requirement already satisfied: grpcio<2.0,>=1.24.3 in /usr/local/lib/python3.10/dist-packages (from tensorflow) (1.64.1)\n",
            "Requirement already satisfied: tensorboard<2.16,>=2.15 in /usr/local/lib/python3.10/dist-packages (from tensorflow) (2.15.2)\n",
            "Requirement already satisfied: tensorflow-estimator<2.16,>=2.15.0 in /usr/local/lib/python3.10/dist-packages (from tensorflow) (2.15.0)\n",
            "Requirement already satisfied: keras<2.16,>=2.15.0 in /usr/local/lib/python3.10/dist-packages (from tensorflow) (2.15.0)\n",
            "Requirement already satisfied: wheel<1.0,>=0.23.0 in /usr/local/lib/python3.10/dist-packages (from astunparse>=1.6.0->tensorflow) (0.43.0)\n",
            "Requirement already satisfied: google-auth<3,>=1.6.3 in /usr/local/lib/python3.10/dist-packages (from tensorboard<2.16,>=2.15->tensorflow) (2.27.0)\n",
            "Requirement already satisfied: google-auth-oauthlib<2,>=0.5 in /usr/local/lib/python3.10/dist-packages (from tensorboard<2.16,>=2.15->tensorflow) (1.2.0)\n",
            "Requirement already satisfied: markdown>=2.6.8 in /usr/local/lib/python3.10/dist-packages (from tensorboard<2.16,>=2.15->tensorflow) (3.6)\n",
            "Requirement already satisfied: requests<3,>=2.21.0 in /usr/local/lib/python3.10/dist-packages (from tensorboard<2.16,>=2.15->tensorflow) (2.31.0)\n",
            "Requirement already satisfied: tensorboard-data-server<0.8.0,>=0.7.0 in /usr/local/lib/python3.10/dist-packages (from tensorboard<2.16,>=2.15->tensorflow) (0.7.2)\n",
            "Requirement already satisfied: werkzeug>=1.0.1 in /usr/local/lib/python3.10/dist-packages (from tensorboard<2.16,>=2.15->tensorflow) (3.0.3)\n",
            "Requirement already satisfied: cachetools<6.0,>=2.0.0 in /usr/local/lib/python3.10/dist-packages (from google-auth<3,>=1.6.3->tensorboard<2.16,>=2.15->tensorflow) (5.3.3)\n",
            "Requirement already satisfied: pyasn1-modules>=0.2.1 in /usr/local/lib/python3.10/dist-packages (from google-auth<3,>=1.6.3->tensorboard<2.16,>=2.15->tensorflow) (0.4.0)\n",
            "Requirement already satisfied: rsa<5,>=3.1.4 in /usr/local/lib/python3.10/dist-packages (from google-auth<3,>=1.6.3->tensorboard<2.16,>=2.15->tensorflow) (4.9)\n",
            "Requirement already satisfied: requests-oauthlib>=0.7.0 in /usr/local/lib/python3.10/dist-packages (from google-auth-oauthlib<2,>=0.5->tensorboard<2.16,>=2.15->tensorflow) (1.3.1)\n",
            "Requirement already satisfied: charset-normalizer<4,>=2 in /usr/local/lib/python3.10/dist-packages (from requests<3,>=2.21.0->tensorboard<2.16,>=2.15->tensorflow) (3.3.2)\n",
            "Requirement already satisfied: idna<4,>=2.5 in /usr/local/lib/python3.10/dist-packages (from requests<3,>=2.21.0->tensorboard<2.16,>=2.15->tensorflow) (3.7)\n",
            "Requirement already satisfied: urllib3<3,>=1.21.1 in /usr/local/lib/python3.10/dist-packages (from requests<3,>=2.21.0->tensorboard<2.16,>=2.15->tensorflow) (2.0.7)\n",
            "Requirement already satisfied: certifi>=2017.4.17 in /usr/local/lib/python3.10/dist-packages (from requests<3,>=2.21.0->tensorboard<2.16,>=2.15->tensorflow) (2024.6.2)\n",
            "Requirement already satisfied: MarkupSafe>=2.1.1 in /usr/local/lib/python3.10/dist-packages (from werkzeug>=1.0.1->tensorboard<2.16,>=2.15->tensorflow) (2.1.5)\n",
            "Requirement already satisfied: pyasn1<0.7.0,>=0.4.6 in /usr/local/lib/python3.10/dist-packages (from pyasn1-modules>=0.2.1->google-auth<3,>=1.6.3->tensorboard<2.16,>=2.15->tensorflow) (0.6.0)\n",
            "Requirement already satisfied: oauthlib>=3.0.0 in /usr/local/lib/python3.10/dist-packages (from requests-oauthlib>=0.7.0->google-auth-oauthlib<2,>=0.5->tensorboard<2.16,>=2.15->tensorflow) (3.2.2)\n"
          ]
        }
      ]
    },
    {
      "cell_type": "code",
      "execution_count": null,
      "metadata": {
        "id": "4FVTqmFRy8x0"
      },
      "outputs": [],
      "source": [
        "# Importing essential libraries and functions\n",
        "\n",
        "import pandas as pd\n",
        "import numpy as np\n",
        "import re\n",
        "import nltk\n",
        "from nltk.corpus import stopwords\n",
        "from numpy import array\n",
        "import tensorflow as tf\n",
        "from numpy.random import seed\n",
        "seed(2899)\n",
        "tf.random.set_seed(99)\n",
        "from sklearn.model_selection import train_test_split"
      ]
    },
    {
      "cell_type": "code",
      "execution_count": null,
      "metadata": {
        "id": "5y9NLHiR6VDN"
      },
      "outputs": [],
      "source": [
        "import keras"
      ]
    },
    {
      "cell_type": "code",
      "execution_count": null,
      "metadata": {
        "id": "RWNaCCu86c4A"
      },
      "outputs": [],
      "source": [
        "from keras.models import Sequential"
      ]
    },
    {
      "cell_type": "code",
      "execution_count": null,
      "metadata": {
        "id": "oAEgEUZn3FEb"
      },
      "outputs": [],
      "source": [
        "from keras.preprocessing.text import one_hot, Tokenizer\n",
        "from keras.models import Sequential\n",
        "import keras\n",
        "from keras.layers import Dense, Activation, Dropout, Reshape, Permute\n",
        "from keras.layers import Flatten, GlobalMaxPooling1D, Embedding, Conv1D, LSTM\n",
        "from sklearn.model_selection import train_test_split"
      ]
    },
    {
      "cell_type": "code",
      "execution_count": null,
      "metadata": {
        "id": "INUeNlRbzAsj"
      },
      "outputs": [],
      "source": [
        "from tensorflow.keras.preprocessing.sequence import pad_sequences"
      ]
    },
    {
      "cell_type": "code",
      "execution_count": null,
      "metadata": {
        "id": "PYR49DUdzETF"
      },
      "outputs": [],
      "source": [
        "# Importing dataset\n",
        "\n",
        "dataset = pd.read_csv(\"extractsentiment_vader.csv\")"
      ]
    },
    {
      "cell_type": "code",
      "execution_count": null,
      "metadata": {
        "colab": {
          "base_uri": "https://localhost:8080/"
        },
        "id": "jon40vTS0tes",
        "outputId": "93831f87-87d9-437c-d300-45ddea0755dd"
      },
      "outputs": [
        {
          "output_type": "execute_result",
          "data": {
            "text/plain": [
              "(11624, 3)"
            ]
          },
          "metadata": {},
          "execution_count": 42
        }
      ],
      "source": [
        "dataset.shape"
      ]
    },
    {
      "cell_type": "code",
      "execution_count": null,
      "metadata": {
        "colab": {
          "base_uri": "https://localhost:8080/",
          "height": 206
        },
        "id": "WPnNfPB49SiW",
        "outputId": "a7f5a2f8-e9f1-4d05-dd15-a825c8fb3627"
      },
      "outputs": [
        {
          "output_type": "execute_result",
          "data": {
            "text/plain": [
              "                                     text_lemmatized     Score Sentiment\n",
              "0  best use maybank app apps run smoothly money m...  1.269231  Positive\n",
              "1  must malicious apps phone ask change phone upd...  0.282051  Positive\n",
              "2  service bsn problem news daily light make mybs...  0.205128  Positive\n",
              "3              maybank apps statement 1 green 99 red  0.000000  Negative\n",
              "4                   something wrong maybank mae apps -0.538462  Negative"
            ],
            "text/html": [
              "\n",
              "  <div id=\"df-e7231724-4998-456e-803c-459c2da7a5d7\" class=\"colab-df-container\">\n",
              "    <div>\n",
              "<style scoped>\n",
              "    .dataframe tbody tr th:only-of-type {\n",
              "        vertical-align: middle;\n",
              "    }\n",
              "\n",
              "    .dataframe tbody tr th {\n",
              "        vertical-align: top;\n",
              "    }\n",
              "\n",
              "    .dataframe thead th {\n",
              "        text-align: right;\n",
              "    }\n",
              "</style>\n",
              "<table border=\"1\" class=\"dataframe\">\n",
              "  <thead>\n",
              "    <tr style=\"text-align: right;\">\n",
              "      <th></th>\n",
              "      <th>text_lemmatized</th>\n",
              "      <th>Score</th>\n",
              "      <th>Sentiment</th>\n",
              "    </tr>\n",
              "  </thead>\n",
              "  <tbody>\n",
              "    <tr>\n",
              "      <th>0</th>\n",
              "      <td>best use maybank app apps run smoothly money m...</td>\n",
              "      <td>1.269231</td>\n",
              "      <td>Positive</td>\n",
              "    </tr>\n",
              "    <tr>\n",
              "      <th>1</th>\n",
              "      <td>must malicious apps phone ask change phone upd...</td>\n",
              "      <td>0.282051</td>\n",
              "      <td>Positive</td>\n",
              "    </tr>\n",
              "    <tr>\n",
              "      <th>2</th>\n",
              "      <td>service bsn problem news daily light make mybs...</td>\n",
              "      <td>0.205128</td>\n",
              "      <td>Positive</td>\n",
              "    </tr>\n",
              "    <tr>\n",
              "      <th>3</th>\n",
              "      <td>maybank apps statement 1 green 99 red</td>\n",
              "      <td>0.000000</td>\n",
              "      <td>Negative</td>\n",
              "    </tr>\n",
              "    <tr>\n",
              "      <th>4</th>\n",
              "      <td>something wrong maybank mae apps</td>\n",
              "      <td>-0.538462</td>\n",
              "      <td>Negative</td>\n",
              "    </tr>\n",
              "  </tbody>\n",
              "</table>\n",
              "</div>\n",
              "    <div class=\"colab-df-buttons\">\n",
              "\n",
              "  <div class=\"colab-df-container\">\n",
              "    <button class=\"colab-df-convert\" onclick=\"convertToInteractive('df-e7231724-4998-456e-803c-459c2da7a5d7')\"\n",
              "            title=\"Convert this dataframe to an interactive table.\"\n",
              "            style=\"display:none;\">\n",
              "\n",
              "  <svg xmlns=\"http://www.w3.org/2000/svg\" height=\"24px\" viewBox=\"0 -960 960 960\">\n",
              "    <path d=\"M120-120v-720h720v720H120Zm60-500h600v-160H180v160Zm220 220h160v-160H400v160Zm0 220h160v-160H400v160ZM180-400h160v-160H180v160Zm440 0h160v-160H620v160ZM180-180h160v-160H180v160Zm440 0h160v-160H620v160Z\"/>\n",
              "  </svg>\n",
              "    </button>\n",
              "\n",
              "  <style>\n",
              "    .colab-df-container {\n",
              "      display:flex;\n",
              "      gap: 12px;\n",
              "    }\n",
              "\n",
              "    .colab-df-convert {\n",
              "      background-color: #E8F0FE;\n",
              "      border: none;\n",
              "      border-radius: 50%;\n",
              "      cursor: pointer;\n",
              "      display: none;\n",
              "      fill: #1967D2;\n",
              "      height: 32px;\n",
              "      padding: 0 0 0 0;\n",
              "      width: 32px;\n",
              "    }\n",
              "\n",
              "    .colab-df-convert:hover {\n",
              "      background-color: #E2EBFA;\n",
              "      box-shadow: 0px 1px 2px rgba(60, 64, 67, 0.3), 0px 1px 3px 1px rgba(60, 64, 67, 0.15);\n",
              "      fill: #174EA6;\n",
              "    }\n",
              "\n",
              "    .colab-df-buttons div {\n",
              "      margin-bottom: 4px;\n",
              "    }\n",
              "\n",
              "    [theme=dark] .colab-df-convert {\n",
              "      background-color: #3B4455;\n",
              "      fill: #D2E3FC;\n",
              "    }\n",
              "\n",
              "    [theme=dark] .colab-df-convert:hover {\n",
              "      background-color: #434B5C;\n",
              "      box-shadow: 0px 1px 3px 1px rgba(0, 0, 0, 0.15);\n",
              "      filter: drop-shadow(0px 1px 2px rgba(0, 0, 0, 0.3));\n",
              "      fill: #FFFFFF;\n",
              "    }\n",
              "  </style>\n",
              "\n",
              "    <script>\n",
              "      const buttonEl =\n",
              "        document.querySelector('#df-e7231724-4998-456e-803c-459c2da7a5d7 button.colab-df-convert');\n",
              "      buttonEl.style.display =\n",
              "        google.colab.kernel.accessAllowed ? 'block' : 'none';\n",
              "\n",
              "      async function convertToInteractive(key) {\n",
              "        const element = document.querySelector('#df-e7231724-4998-456e-803c-459c2da7a5d7');\n",
              "        const dataTable =\n",
              "          await google.colab.kernel.invokeFunction('convertToInteractive',\n",
              "                                                    [key], {});\n",
              "        if (!dataTable) return;\n",
              "\n",
              "        const docLinkHtml = 'Like what you see? Visit the ' +\n",
              "          '<a target=\"_blank\" href=https://colab.research.google.com/notebooks/data_table.ipynb>data table notebook</a>'\n",
              "          + ' to learn more about interactive tables.';\n",
              "        element.innerHTML = '';\n",
              "        dataTable['output_type'] = 'display_data';\n",
              "        await google.colab.output.renderOutput(dataTable, element);\n",
              "        const docLink = document.createElement('div');\n",
              "        docLink.innerHTML = docLinkHtml;\n",
              "        element.appendChild(docLink);\n",
              "      }\n",
              "    </script>\n",
              "  </div>\n",
              "\n",
              "\n",
              "<div id=\"df-1540ea82-2988-44d7-890c-0b11fb23d961\">\n",
              "  <button class=\"colab-df-quickchart\" onclick=\"quickchart('df-1540ea82-2988-44d7-890c-0b11fb23d961')\"\n",
              "            title=\"Suggest charts\"\n",
              "            style=\"display:none;\">\n",
              "\n",
              "<svg xmlns=\"http://www.w3.org/2000/svg\" height=\"24px\"viewBox=\"0 0 24 24\"\n",
              "     width=\"24px\">\n",
              "    <g>\n",
              "        <path d=\"M19 3H5c-1.1 0-2 .9-2 2v14c0 1.1.9 2 2 2h14c1.1 0 2-.9 2-2V5c0-1.1-.9-2-2-2zM9 17H7v-7h2v7zm4 0h-2V7h2v10zm4 0h-2v-4h2v4z\"/>\n",
              "    </g>\n",
              "</svg>\n",
              "  </button>\n",
              "\n",
              "<style>\n",
              "  .colab-df-quickchart {\n",
              "      --bg-color: #E8F0FE;\n",
              "      --fill-color: #1967D2;\n",
              "      --hover-bg-color: #E2EBFA;\n",
              "      --hover-fill-color: #174EA6;\n",
              "      --disabled-fill-color: #AAA;\n",
              "      --disabled-bg-color: #DDD;\n",
              "  }\n",
              "\n",
              "  [theme=dark] .colab-df-quickchart {\n",
              "      --bg-color: #3B4455;\n",
              "      --fill-color: #D2E3FC;\n",
              "      --hover-bg-color: #434B5C;\n",
              "      --hover-fill-color: #FFFFFF;\n",
              "      --disabled-bg-color: #3B4455;\n",
              "      --disabled-fill-color: #666;\n",
              "  }\n",
              "\n",
              "  .colab-df-quickchart {\n",
              "    background-color: var(--bg-color);\n",
              "    border: none;\n",
              "    border-radius: 50%;\n",
              "    cursor: pointer;\n",
              "    display: none;\n",
              "    fill: var(--fill-color);\n",
              "    height: 32px;\n",
              "    padding: 0;\n",
              "    width: 32px;\n",
              "  }\n",
              "\n",
              "  .colab-df-quickchart:hover {\n",
              "    background-color: var(--hover-bg-color);\n",
              "    box-shadow: 0 1px 2px rgba(60, 64, 67, 0.3), 0 1px 3px 1px rgba(60, 64, 67, 0.15);\n",
              "    fill: var(--button-hover-fill-color);\n",
              "  }\n",
              "\n",
              "  .colab-df-quickchart-complete:disabled,\n",
              "  .colab-df-quickchart-complete:disabled:hover {\n",
              "    background-color: var(--disabled-bg-color);\n",
              "    fill: var(--disabled-fill-color);\n",
              "    box-shadow: none;\n",
              "  }\n",
              "\n",
              "  .colab-df-spinner {\n",
              "    border: 2px solid var(--fill-color);\n",
              "    border-color: transparent;\n",
              "    border-bottom-color: var(--fill-color);\n",
              "    animation:\n",
              "      spin 1s steps(1) infinite;\n",
              "  }\n",
              "\n",
              "  @keyframes spin {\n",
              "    0% {\n",
              "      border-color: transparent;\n",
              "      border-bottom-color: var(--fill-color);\n",
              "      border-left-color: var(--fill-color);\n",
              "    }\n",
              "    20% {\n",
              "      border-color: transparent;\n",
              "      border-left-color: var(--fill-color);\n",
              "      border-top-color: var(--fill-color);\n",
              "    }\n",
              "    30% {\n",
              "      border-color: transparent;\n",
              "      border-left-color: var(--fill-color);\n",
              "      border-top-color: var(--fill-color);\n",
              "      border-right-color: var(--fill-color);\n",
              "    }\n",
              "    40% {\n",
              "      border-color: transparent;\n",
              "      border-right-color: var(--fill-color);\n",
              "      border-top-color: var(--fill-color);\n",
              "    }\n",
              "    60% {\n",
              "      border-color: transparent;\n",
              "      border-right-color: var(--fill-color);\n",
              "    }\n",
              "    80% {\n",
              "      border-color: transparent;\n",
              "      border-right-color: var(--fill-color);\n",
              "      border-bottom-color: var(--fill-color);\n",
              "    }\n",
              "    90% {\n",
              "      border-color: transparent;\n",
              "      border-bottom-color: var(--fill-color);\n",
              "    }\n",
              "  }\n",
              "</style>\n",
              "\n",
              "  <script>\n",
              "    async function quickchart(key) {\n",
              "      const quickchartButtonEl =\n",
              "        document.querySelector('#' + key + ' button');\n",
              "      quickchartButtonEl.disabled = true;  // To prevent multiple clicks.\n",
              "      quickchartButtonEl.classList.add('colab-df-spinner');\n",
              "      try {\n",
              "        const charts = await google.colab.kernel.invokeFunction(\n",
              "            'suggestCharts', [key], {});\n",
              "      } catch (error) {\n",
              "        console.error('Error during call to suggestCharts:', error);\n",
              "      }\n",
              "      quickchartButtonEl.classList.remove('colab-df-spinner');\n",
              "      quickchartButtonEl.classList.add('colab-df-quickchart-complete');\n",
              "    }\n",
              "    (() => {\n",
              "      let quickchartButtonEl =\n",
              "        document.querySelector('#df-1540ea82-2988-44d7-890c-0b11fb23d961 button');\n",
              "      quickchartButtonEl.style.display =\n",
              "        google.colab.kernel.accessAllowed ? 'block' : 'none';\n",
              "    })();\n",
              "  </script>\n",
              "</div>\n",
              "\n",
              "    </div>\n",
              "  </div>\n"
            ],
            "application/vnd.google.colaboratory.intrinsic+json": {
              "type": "dataframe",
              "variable_name": "dataset",
              "summary": "{\n  \"name\": \"dataset\",\n  \"rows\": 11624,\n  \"fields\": [\n    {\n      \"column\": \"text_lemmatized\",\n      \"properties\": {\n        \"dtype\": \"string\",\n        \"num_unique_values\": 9372,\n        \"samples\": [\n          \"nurhasanaah41 right unfortunately currently prize quiz program end dont worry keep monitor cimb niaga social medium account dont forget continue use octo mobile easy transaction time\",\n          \"want approve transaction go bank islam apps apps cant access oh goodness bankislam\",\n          \"please cimb click need important transaction cimbassists\"\n        ],\n        \"semantic_type\": \"\",\n        \"description\": \"\"\n      }\n    },\n    {\n      \"column\": \"Score\",\n      \"properties\": {\n        \"dtype\": \"number\",\n        \"std\": 0.8972645235994741,\n        \"min\": -5.769230769,\n        \"max\": 5.769230769,\n        \"num_unique_values\": 399,\n        \"samples\": [\n          -1.564102564,\n          3.307692308,\n          0.615384615\n        ],\n        \"semantic_type\": \"\",\n        \"description\": \"\"\n      }\n    },\n    {\n      \"column\": \"Sentiment\",\n      \"properties\": {\n        \"dtype\": \"category\",\n        \"num_unique_values\": 2,\n        \"samples\": [\n          \"Negative\",\n          \"Positive\"\n        ],\n        \"semantic_type\": \"\",\n        \"description\": \"\"\n      }\n    }\n  ]\n}"
            }
          },
          "metadata": {},
          "execution_count": 43
        }
      ],
      "source": [
        "dataset.head(5)"
      ]
    },
    {
      "cell_type": "code",
      "execution_count": null,
      "metadata": {
        "id": "RMWkGuzr9dL7",
        "colab": {
          "base_uri": "https://localhost:8080/",
          "height": 467
        },
        "outputId": "151beaab-96dc-43df-e195-18c57f3b6b1c"
      },
      "outputs": [
        {
          "output_type": "execute_result",
          "data": {
            "text/plain": [
              "<Axes: xlabel='Sentiment', ylabel='count'>"
            ]
          },
          "metadata": {},
          "execution_count": 44
        },
        {
          "output_type": "display_data",
          "data": {
            "text/plain": [
              "<Figure size 640x480 with 1 Axes>"
            ],
            "image/png": "[encoded data removed]"
          },
          "metadata": {}
        }
      ],
      "source": [
        "import seaborn as sns\n",
        "sns.countplot(x='Sentiment', data=dataset)"
      ]
    },
    {
      "cell_type": "code",
      "source": [
        "# Get \"Positive\" and \"Negative\" samples\n",
        "positive_samples = dataset[dataset['Sentiment'] == \"Positive\"]\n",
        "negative_samples = dataset[dataset['Sentiment'] == \"Negative\"]\n",
        "\n",
        "# Randomly select 4500 samples from each\n",
        "positive_samples = positive_samples.sample(n=4500, random_state=42)\n",
        "negative_samples = negative_samples.sample(n=4500, random_state=42)\n",
        "\n",
        "# Combine the samples\n",
        "balanced_dataset = pd.concat([positive_samples, negative_samples])\n",
        "\n",
        "# Shuffle the dataset\n",
        "dataset = balanced_dataset.sample(frac=1, random_state=42).reset_index(drop=True)\n",
        "\n",
        "sns.countplot(x='Sentiment', data=dataset)"
      ],
      "metadata": {
        "colab": {
          "base_uri": "https://localhost:8080/",
          "height": 467
        },
        "id": "W-V6h2k0Rhzu",
        "outputId": "ef0874d4-8972-44a0-cd73-fc2b099e0d00"
      },
      "execution_count": null,
      "outputs": [
        {
          "output_type": "execute_result",
          "data": {
            "text/plain": [
              "<Axes: xlabel='Sentiment', ylabel='count'>"
            ]
          },
          "metadata": {},
          "execution_count": 45
        },
        {
          "output_type": "display_data",
          "data": {
            "text/plain": [
              "<Figure size 640x480 with 1 Axes>"
            ],
            "image/png": "[encoded data removed]"
          },
          "metadata": {}
        }
      ]
    },
    {
      "cell_type": "code",
      "execution_count": null,
      "metadata": {
        "id": "b__ClM0L-ipt"
      },
      "outputs": [],
      "source": [
        "X = dataset['text_lemmatized']\n",
        "\n",
        "y = dataset['Sentiment']\n",
        "\n",
        "y = np.array(list(map(lambda x: 1 if x==\"Positive\" else 0, y)))\n"
      ]
    },
    {
      "cell_type": "code",
      "source": [
        "X.shape"
      ],
      "metadata": {
        "colab": {
          "base_uri": "https://localhost:8080/"
        },
        "id": "7MZapcgS7fd3",
        "outputId": "143abd60-8ebb-4a7a-d40f-445743f051ca"
      },
      "execution_count": null,
      "outputs": [
        {
          "output_type": "execute_result",
          "data": {
            "text/plain": [
              "(9000,)"
            ]
          },
          "metadata": {},
          "execution_count": 47
        }
      ]
    },
    {
      "cell_type": "markdown",
      "source": [
        "**SPLIT 70-30**"
      ],
      "metadata": {
        "id": "Q8mRgpPH5Qsg"
      }
    },
    {
      "cell_type": "code",
      "source": [
        "# First split to get training+validation (70%) and test sets (30%)\n",
        "X_train_val, X_test, y_train_val, y_test = train_test_split(X, y, test_size=0.3, random_state=42, stratify=y)\n",
        "\n",
        "# Further split the training+validation set into training (60%) and validation (10%)\n",
        "X_train, X_val, y_train, y_val = train_test_split(X_train_val, y_train_val, test_size=1/7, random_state=42, stratify=y_train_val)\n",
        "\n",
        "# The test_size=1/7 ensures that the validation set is approximately 10% of the original dataset\n",
        "# and the training set is approximately 60% of the original dataset.\n"
      ],
      "metadata": {
        "id": "HBN6810_Nfie"
      },
      "execution_count": null,
      "outputs": []
    },
    {
      "cell_type": "code",
      "source": [
        "X_train.shape"
      ],
      "metadata": {
        "colab": {
          "base_uri": "https://localhost:8080/"
        },
        "id": "lsKJklpY5z7t",
        "outputId": "7ee3cc8c-8965-4c71-d799-1c0b033cd21d"
      },
      "execution_count": null,
      "outputs": [
        {
          "output_type": "execute_result",
          "data": {
            "text/plain": [
              "(5400,)"
            ]
          },
          "metadata": {},
          "execution_count": 109
        }
      ]
    },
    {
      "cell_type": "code",
      "source": [
        "X_val.shape"
      ],
      "metadata": {
        "colab": {
          "base_uri": "https://localhost:8080/"
        },
        "id": "Fp51_S8f52nn",
        "outputId": "c5ad66f7-ae06-40bb-b928-0b59da441a59"
      },
      "execution_count": null,
      "outputs": [
        {
          "output_type": "execute_result",
          "data": {
            "text/plain": [
              "(900,)"
            ]
          },
          "metadata": {},
          "execution_count": 110
        }
      ]
    },
    {
      "cell_type": "code",
      "source": [
        "X_test.shape"
      ],
      "metadata": {
        "colab": {
          "base_uri": "https://localhost:8080/"
        },
        "id": "ICW8lQJN55O6",
        "outputId": "c8439a10-d6bc-4f47-c8fe-f53e7428bb74"
      },
      "execution_count": null,
      "outputs": [
        {
          "output_type": "execute_result",
          "data": {
            "text/plain": [
              "(2700,)"
            ]
          },
          "metadata": {},
          "execution_count": 111
        }
      ]
    },
    {
      "cell_type": "markdown",
      "metadata": {
        "id": "6y2cuqof_t5T"
      },
      "source": [
        "PREPARING EMBEDDING LAYER"
      ]
    },
    {
      "cell_type": "code",
      "execution_count": null,
      "metadata": {
        "id": "qyG8mfTB_r2R"
      },
      "outputs": [],
      "source": [
        "# Embedding layer expects the words to be in numeric form\n",
        "# Using Tokenizer function from keras.preprocessing.text library\n",
        "# Method fit_on_text trains the tokenizer\n",
        "# Method texts_to_sequences converts sentences to their numeric form\n",
        "\n",
        "word_tokenizer = Tokenizer()\n",
        "word_tokenizer.fit_on_texts(X_train)\n",
        "\n",
        "X_train = word_tokenizer.texts_to_sequences(X_train)\n",
        "X_val = word_tokenizer.texts_to_sequences(X_val)\n",
        "X_test = word_tokenizer.texts_to_sequences(X_test)"
      ]
    },
    {
      "cell_type": "code",
      "execution_count": null,
      "metadata": {
        "id": "tGQ3uGwZ_zZW"
      },
      "outputs": [],
      "source": [
        "import io\n",
        "import json"
      ]
    },
    {
      "cell_type": "code",
      "execution_count": null,
      "metadata": {
        "id": "qYWhWvgp_3yp"
      },
      "outputs": [],
      "source": [
        "# Saving\n",
        "tokenizer_json = word_tokenizer.to_json()\n",
        "with io.open('b3_tokenizer.json', 'w', encoding='utf-8') as f:\n",
        "    f.write(json.dumps(tokenizer_json, ensure_ascii=False))"
      ]
    },
    {
      "cell_type": "code",
      "execution_count": null,
      "metadata": {
        "id": "xM4MC7fz_6qC",
        "colab": {
          "base_uri": "https://localhost:8080/"
        },
        "outputId": "a00b5347-ac33-49b6-d7e2-0915114ab084"
      },
      "outputs": [
        {
          "output_type": "execute_result",
          "data": {
            "text/plain": [
              "7391"
            ]
          },
          "metadata": {},
          "execution_count": 115
        }
      ],
      "source": [
        "# Adding 1 to store dimensions for words for which no pretrained word embeddings exist\n",
        "\n",
        "vocab_length = len(word_tokenizer.word_index) + 1\n",
        "\n",
        "vocab_length"
      ]
    },
    {
      "cell_type": "code",
      "execution_count": null,
      "metadata": {
        "id": "C3nV9OIu_-BF"
      },
      "outputs": [],
      "source": [
        "# Padding all reviews to fixed length 100\n",
        "\n",
        "maxlen = 100\n",
        "\n",
        "X_train = pad_sequences(X_train, padding='post', maxlen=maxlen)\n",
        "X_val = pad_sequences(X_val, padding='post', maxlen=maxlen)\n",
        "X_test = pad_sequences(X_test, padding='post', maxlen=maxlen)"
      ]
    },
    {
      "cell_type": "code",
      "execution_count": null,
      "metadata": {
        "id": "LSkgBakXADrN"
      },
      "outputs": [],
      "source": [
        "\n",
        "# Load GloVe word embeddings and create an Embeddings Dictionary\n",
        "\n",
        "from numpy import asarray\n",
        "from numpy import zeros\n",
        "\n",
        "embeddings_dictionary = dict()\n",
        "glove_file = open('glove.6B.100d.txt', encoding=\"utf8\")\n",
        "\n",
        "for line in glove_file:\n",
        "    records = line.split()\n",
        "    word = records[0]\n",
        "    vector_dimensions = asarray(records[1:], dtype='float32')\n",
        "    embeddings_dictionary [word] = vector_dimensions\n",
        "glove_file.close()"
      ]
    },
    {
      "cell_type": "code",
      "execution_count": null,
      "metadata": {
        "id": "5Mc9uhCc_-tV"
      },
      "outputs": [],
      "source": [
        "# Create Embedding Matrix having 100 columns\n",
        "# Containing 100-dimensional GloVe word embeddings for all words in our corpus.\n",
        "\n",
        "embedding_matrix = zeros((vocab_length, 100))\n",
        "for word, index in word_tokenizer.word_index.items():\n",
        "    embedding_vector = embeddings_dictionary.get(word)\n",
        "    if embedding_vector is not None:\n",
        "        embedding_matrix[index] = embedding_vector"
      ]
    },
    {
      "cell_type": "code",
      "execution_count": null,
      "metadata": {
        "id": "McTkJKf1AdHz",
        "colab": {
          "base_uri": "https://localhost:8080/"
        },
        "outputId": "f749099e-c187-4cd1-81a6-6910b12de2ad"
      },
      "outputs": [
        {
          "output_type": "execute_result",
          "data": {
            "text/plain": [
              "(7391, 100)"
            ]
          },
          "metadata": {},
          "execution_count": 119
        }
      ],
      "source": [
        "embedding_matrix.shape"
      ]
    },
    {
      "cell_type": "code",
      "source": [
        "X_train.shape"
      ],
      "metadata": {
        "colab": {
          "base_uri": "https://localhost:8080/"
        },
        "id": "AxaTyAO3dSlE",
        "outputId": "96ed4828-7321-4f90-bc03-2fd09131872d"
      },
      "execution_count": null,
      "outputs": [
        {
          "output_type": "execute_result",
          "data": {
            "text/plain": [
              "(5400, 100)"
            ]
          },
          "metadata": {},
          "execution_count": 120
        }
      ]
    },
    {
      "cell_type": "code",
      "source": [
        "X_val.shape"
      ],
      "metadata": {
        "colab": {
          "base_uri": "https://localhost:8080/"
        },
        "id": "VWTO10gc8FBJ",
        "outputId": "e3c14d25-986a-46d3-ce2e-9e46d708487d"
      },
      "execution_count": null,
      "outputs": [
        {
          "output_type": "execute_result",
          "data": {
            "text/plain": [
              "(900, 100)"
            ]
          },
          "metadata": {},
          "execution_count": 121
        }
      ]
    },
    {
      "cell_type": "code",
      "source": [
        "X_test.shape"
      ],
      "metadata": {
        "colab": {
          "base_uri": "https://localhost:8080/"
        },
        "id": "jJgWHm3FdNZV",
        "outputId": "a013d99e-b139-48e1-f38d-e8fb7273c5a2"
      },
      "execution_count": null,
      "outputs": [
        {
          "output_type": "execute_result",
          "data": {
            "text/plain": [
              "(2700, 100)"
            ]
          },
          "metadata": {},
          "execution_count": 122
        }
      ]
    },
    {
      "cell_type": "markdown",
      "metadata": {
        "id": "6egFpb5J_W-N"
      },
      "source": [
        "**LSTM MODEL 1**"
      ]
    },
    {
      "cell_type": "code",
      "execution_count": null,
      "metadata": {
        "id": "vJrvFl6x_gPK"
      },
      "outputs": [],
      "source": [
        "from keras.layers import LSTM"
      ]
    },
    {
      "cell_type": "code",
      "execution_count": null,
      "metadata": {
        "id": "NBBsnUJA_jzH"
      },
      "outputs": [],
      "source": [
        "# Neural Network architecture\n",
        "\n",
        "lstm_model1 = Sequential()\n",
        "embedding_layer = Embedding(vocab_length, 100, weights=[embedding_matrix], input_length=maxlen , trainable=False)\n",
        "lstm_model1.add(embedding_layer)\n",
        "lstm_model1.add(LSTM(128))\n",
        "lstm_model1.add(Dense(50, activation='sigmoid'))\n",
        "\n",
        "lstm_model1.add(Dense(1, activation='sigmoid'))\n",
        "\n"
      ]
    },
    {
      "cell_type": "code",
      "execution_count": null,
      "metadata": {
        "id": "DkyuV3NTAgzR",
        "colab": {
          "base_uri": "https://localhost:8080/"
        },
        "outputId": "9fb6a917-e2b9-4f78-b4d9-5eae6f16b2d4"
      },
      "outputs": [
        {
          "output_type": "stream",
          "name": "stdout",
          "text": [
            "Model: \"sequential_6\"\n",
            "_________________________________________________________________\n",
            " Layer (type)                Output Shape              Param #   \n",
            "=================================================================\n",
            " embedding_6 (Embedding)     (None, 100, 100)          739100    \n",
            "                                                                 \n",
            " lstm_6 (LSTM)               (None, 128)               117248    \n",
            "                                                                 \n",
            " dense_9 (Dense)             (None, 50)                6450      \n",
            "                                                                 \n",
            " dense_10 (Dense)            (None, 1)                 51        \n",
            "                                                                 \n",
            "=================================================================\n",
            "Total params: 862849 (3.29 MB)\n",
            "Trainable params: 123749 (483.39 KB)\n",
            "Non-trainable params: 739100 (2.82 MB)\n",
            "_________________________________________________________________\n",
            "None\n"
          ]
        }
      ],
      "source": [
        "# Model compiling\n",
        "lstm_model1.compile(optimizer='adam',loss='binary_crossentropy', metrics=['accuracy'])\n",
        "print(lstm_model1.summary())\n"
      ]
    },
    {
      "cell_type": "code",
      "execution_count": null,
      "metadata": {
        "id": "ukaMPrF5Alln",
        "colab": {
          "base_uri": "https://localhost:8080/"
        },
        "outputId": "58cff465-bc9b-402b-993d-a4661393a586"
      },
      "outputs": [
        {
          "output_type": "stream",
          "name": "stdout",
          "text": [
            "Epoch 1/50\n",
            "2/2 [==============================] - 18s 4s/step - loss: 0.7991 - accuracy: 0.5000 - val_loss: 0.7866 - val_accuracy: 0.5000\n",
            "Epoch 2/50\n",
            "2/2 [==============================] - 11s 3s/step - loss: 0.7846 - accuracy: 0.5000 - val_loss: 0.7718 - val_accuracy: 0.5000\n",
            "Epoch 3/50\n",
            "2/2 [==============================] - 11s 5s/step - loss: 0.7693 - accuracy: 0.5000 - val_loss: 0.7537 - val_accuracy: 0.5000\n",
            "Epoch 4/50\n",
            "2/2 [==============================] - 10s 3s/step - loss: 0.7501 - accuracy: 0.5000 - val_loss: 0.7228 - val_accuracy: 0.5000\n",
            "Epoch 5/50\n",
            "2/2 [==============================] - 11s 3s/step - loss: 0.7146 - accuracy: 0.5000 - val_loss: 0.7185 - val_accuracy: 0.5033\n",
            "Epoch 6/50\n",
            "2/2 [==============================] - 12s 4s/step - loss: 0.7082 - accuracy: 0.5039 - val_loss: 0.6747 - val_accuracy: 0.6189\n",
            "Epoch 7/50\n",
            "2/2 [==============================] - 11s 4s/step - loss: 0.6741 - accuracy: 0.6404 - val_loss: 0.6713 - val_accuracy: 0.6589\n",
            "Epoch 8/50\n",
            "2/2 [==============================] - 11s 3s/step - loss: 0.6679 - accuracy: 0.6433 - val_loss: 0.6416 - val_accuracy: 0.6644\n",
            "Epoch 9/50\n",
            "2/2 [==============================] - 11s 3s/step - loss: 0.6495 - accuracy: 0.6411 - val_loss: 0.6256 - val_accuracy: 0.6678\n",
            "Epoch 10/50\n",
            "2/2 [==============================] - 11s 5s/step - loss: 0.6313 - accuracy: 0.6567 - val_loss: 0.6348 - val_accuracy: 0.6444\n",
            "Epoch 11/50\n",
            "2/2 [==============================] - 11s 4s/step - loss: 0.6368 - accuracy: 0.6470 - val_loss: 0.6069 - val_accuracy: 0.6878\n",
            "Epoch 12/50\n",
            "2/2 [==============================] - 12s 3s/step - loss: 0.6165 - accuracy: 0.6707 - val_loss: 0.6200 - val_accuracy: 0.6744\n",
            "Epoch 13/50\n",
            "2/2 [==============================] - 11s 3s/step - loss: 0.6283 - accuracy: 0.6631 - val_loss: 0.6124 - val_accuracy: 0.6944\n",
            "Epoch 14/50\n",
            "2/2 [==============================] - 12s 5s/step - loss: 0.6180 - accuracy: 0.6744 - val_loss: 0.5904 - val_accuracy: 0.7056\n",
            "Epoch 15/50\n",
            "2/2 [==============================] - 9s 3s/step - loss: 0.6018 - accuracy: 0.6874 - val_loss: 0.5894 - val_accuracy: 0.6978\n",
            "Epoch 16/50\n",
            "2/2 [==============================] - 12s 4s/step - loss: 0.5950 - accuracy: 0.6869 - val_loss: 0.5762 - val_accuracy: 0.7289\n",
            "Epoch 17/50\n",
            "2/2 [==============================] - 12s 4s/step - loss: 0.5821 - accuracy: 0.7093 - val_loss: 0.5581 - val_accuracy: 0.7367\n",
            "Epoch 18/50\n",
            "2/2 [==============================] - 11s 4s/step - loss: 0.5633 - accuracy: 0.7226 - val_loss: 0.5417 - val_accuracy: 0.7489\n",
            "Epoch 19/50\n",
            "2/2 [==============================] - 11s 3s/step - loss: 0.5350 - accuracy: 0.7487 - val_loss: 0.5611 - val_accuracy: 0.7522\n",
            "Epoch 20/50\n",
            "2/2 [==============================] - 11s 3s/step - loss: 0.5441 - accuracy: 0.7580 - val_loss: 0.5659 - val_accuracy: 0.7378\n",
            "Epoch 21/50\n",
            "2/2 [==============================] - 12s 5s/step - loss: 0.5395 - accuracy: 0.7550 - val_loss: 0.5263 - val_accuracy: 0.7644\n",
            "Epoch 22/50\n",
            "2/2 [==============================] - 12s 5s/step - loss: 0.5171 - accuracy: 0.7741 - val_loss: 0.5036 - val_accuracy: 0.7844\n",
            "Epoch 23/50\n",
            "2/2 [==============================] - 10s 3s/step - loss: 0.4981 - accuracy: 0.7830 - val_loss: 0.5081 - val_accuracy: 0.7667\n",
            "Epoch 24/50\n",
            "2/2 [==============================] - 12s 3s/step - loss: 0.4983 - accuracy: 0.7806 - val_loss: 0.5026 - val_accuracy: 0.7900\n",
            "Epoch 25/50\n",
            "2/2 [==============================] - 12s 4s/step - loss: 0.4891 - accuracy: 0.7917 - val_loss: 0.4943 - val_accuracy: 0.7789\n",
            "Epoch 26/50\n",
            "2/2 [==============================] - 11s 4s/step - loss: 0.4762 - accuracy: 0.7939 - val_loss: 0.4971 - val_accuracy: 0.7878\n",
            "Epoch 27/50\n",
            "2/2 [==============================] - 11s 4s/step - loss: 0.4736 - accuracy: 0.8007 - val_loss: 0.4947 - val_accuracy: 0.7856\n",
            "Epoch 28/50\n",
            "2/2 [==============================] - 11s 3s/step - loss: 0.4693 - accuracy: 0.8002 - val_loss: 0.4771 - val_accuracy: 0.8078\n",
            "Epoch 29/50\n",
            "2/2 [==============================] - 11s 4s/step - loss: 0.4588 - accuracy: 0.8046 - val_loss: 0.4728 - val_accuracy: 0.7989\n",
            "Epoch 30/50\n",
            "2/2 [==============================] - 10s 3s/step - loss: 0.4538 - accuracy: 0.8076 - val_loss: 0.4672 - val_accuracy: 0.8011\n",
            "Epoch 31/50\n",
            "2/2 [==============================] - 12s 4s/step - loss: 0.4444 - accuracy: 0.8102 - val_loss: 0.4696 - val_accuracy: 0.7911\n",
            "Epoch 32/50\n",
            "2/2 [==============================] - 11s 3s/step - loss: 0.4369 - accuracy: 0.8143 - val_loss: 0.4604 - val_accuracy: 0.7967\n",
            "Epoch 33/50\n",
            "2/2 [==============================] - 11s 5s/step - loss: 0.4374 - accuracy: 0.8124 - val_loss: 0.4519 - val_accuracy: 0.8011\n",
            "Epoch 34/50\n",
            "2/2 [==============================] - 9s 3s/step - loss: 0.4299 - accuracy: 0.8180 - val_loss: 0.4479 - val_accuracy: 0.8056\n",
            "Epoch 35/50\n",
            "2/2 [==============================] - 11s 3s/step - loss: 0.4241 - accuracy: 0.8211 - val_loss: 0.4436 - val_accuracy: 0.8056\n",
            "Epoch 36/50\n",
            "2/2 [==============================] - 11s 4s/step - loss: 0.4209 - accuracy: 0.8226 - val_loss: 0.4402 - val_accuracy: 0.8067\n",
            "Epoch 37/50\n",
            "2/2 [==============================] - 9s 3s/step - loss: 0.4173 - accuracy: 0.8217 - val_loss: 0.4440 - val_accuracy: 0.8000\n",
            "Epoch 38/50\n",
            "2/2 [==============================] - 11s 3s/step - loss: 0.4116 - accuracy: 0.8307 - val_loss: 0.4545 - val_accuracy: 0.8067\n",
            "Epoch 39/50\n",
            "2/2 [==============================] - 11s 3s/step - loss: 0.4165 - accuracy: 0.8196 - val_loss: 0.4306 - val_accuracy: 0.7956\n",
            "Epoch 40/50\n",
            "2/2 [==============================] - 10s 4s/step - loss: 0.4142 - accuracy: 0.8270 - val_loss: 0.4328 - val_accuracy: 0.8044\n",
            "Epoch 41/50\n",
            "2/2 [==============================] - 11s 4s/step - loss: 0.4028 - accuracy: 0.8276 - val_loss: 0.4454 - val_accuracy: 0.8111\n",
            "Epoch 42/50\n",
            "2/2 [==============================] - 11s 3s/step - loss: 0.4035 - accuracy: 0.8372 - val_loss: 0.4221 - val_accuracy: 0.8156\n",
            "Epoch 43/50\n",
            "2/2 [==============================] - 13s 4s/step - loss: 0.3957 - accuracy: 0.8370 - val_loss: 0.4155 - val_accuracy: 0.8044\n",
            "Epoch 44/50\n",
            "2/2 [==============================] - 10s 4s/step - loss: 0.3955 - accuracy: 0.8307 - val_loss: 0.4335 - val_accuracy: 0.8167\n",
            "Epoch 45/50\n",
            "2/2 [==============================] - 10s 3s/step - loss: 0.3936 - accuracy: 0.8354 - val_loss: 0.4036 - val_accuracy: 0.8167\n",
            "Epoch 46/50\n",
            "2/2 [==============================] - 11s 3s/step - loss: 0.3797 - accuracy: 0.8463 - val_loss: 0.4052 - val_accuracy: 0.8122\n",
            "Epoch 47/50\n",
            "2/2 [==============================] - 11s 5s/step - loss: 0.3783 - accuracy: 0.8456 - val_loss: 0.4147 - val_accuracy: 0.8167\n",
            "Epoch 48/50\n",
            "2/2 [==============================] - 9s 3s/step - loss: 0.3748 - accuracy: 0.8474 - val_loss: 0.3997 - val_accuracy: 0.8211\n",
            "Epoch 49/50\n",
            "2/2 [==============================] - 11s 3s/step - loss: 0.3717 - accuracy: 0.8470 - val_loss: 0.4060 - val_accuracy: 0.8211\n",
            "Epoch 50/50\n",
            "2/2 [==============================] - 11s 4s/step - loss: 0.3702 - accuracy: 0.8500 - val_loss: 0.4062 - val_accuracy: 0.8256\n"
          ]
        }
      ],
      "source": [
        "# Model training\n",
        "lstm_model1_history = lstm_model1.fit(X_train, y_train, batch_size=4000, epochs=50, verbose=1, validation_data=(X_val,y_val))"
      ]
    },
    {
      "cell_type": "code",
      "execution_count": null,
      "metadata": {
        "id": "-ZIYgN1cEIAv",
        "colab": {
          "base_uri": "https://localhost:8080/"
        },
        "outputId": "21cd06f2-9ba4-480c-c3a4-80f608ec52cf"
      },
      "outputs": [
        {
          "output_type": "stream",
          "name": "stdout",
          "text": [
            "85/85 [==============================] - 5s 58ms/step - loss: 0.3973 - accuracy: 0.8333\n"
          ]
        }
      ],
      "source": [
        "\n",
        "# Predictions on the Test Set\n",
        "\n",
        "score_lstm_model1= lstm_model1.evaluate(X_test, y_test, verbose=1)"
      ]
    },
    {
      "cell_type": "code",
      "execution_count": null,
      "metadata": {
        "id": "jy24Cbg4SUd7",
        "colab": {
          "base_uri": "https://localhost:8080/"
        },
        "outputId": "d09982f2-19c8-4ad6-cef5-88fe761cf88b"
      },
      "outputs": [
        {
          "output_type": "stream",
          "name": "stdout",
          "text": [
            "Test Accuracy: 83.33%\n",
            "Test Loss: 39.73%\n"
          ]
        }
      ],
      "source": [
        "print(\"Test Accuracy: %.2f%%\" % (score_lstm_model1[1]*100))\n",
        "print(\"Test Loss: %.2f%%\" % (score_lstm_model1[0]*100))"
      ]
    },
    {
      "cell_type": "code",
      "execution_count": null,
      "metadata": {
        "id": "axSgVU1oFyiQ",
        "colab": {
          "base_uri": "https://localhost:8080/",
          "height": 472
        },
        "outputId": "9474e212-a363-4534-aea4-1c774455e824"
      },
      "outputs": [
        {
          "output_type": "display_data",
          "data": {
            "text/plain": [
              "<Figure size 640x480 with 1 Axes>"
            ],
            "image/png": "[encoded data removed]"
          },
          "metadata": {}
        }
      ],
      "source": [
        "from matplotlib import pyplot as plt\n",
        "loss = lstm_model1_history.history['loss']\n",
        "val_loss = lstm_model1_history.history['val_loss']\n",
        "epochs = range(1, len(loss) + 1)\n",
        "plt.plot(epochs, loss, 'g', label='Training loss')\n",
        "plt.plot(epochs, val_loss, 'r', label='Validation loss')\n",
        "plt.title('Training and validation loss')\n",
        "plt.xlabel('Epochs')\n",
        "plt.legend()\n",
        "plt.grid()\n",
        "plt.show()"
      ]
    },
    {
      "cell_type": "code",
      "execution_count": null,
      "metadata": {
        "id": "kSU_zxP3GaIO",
        "colab": {
          "base_uri": "https://localhost:8080/",
          "height": 472
        },
        "outputId": "ab6e9b15-2317-442b-a289-7ff03a7f2116"
      },
      "outputs": [
        {
          "output_type": "display_data",
          "data": {
            "text/plain": [
              "<Figure size 640x480 with 1 Axes>"
            ],
            "image/png": "[encoded data removed]"
          },
          "metadata": {}
        }
      ],
      "source": [
        "from matplotlib import pyplot as plt\n",
        "loss = lstm_model1_history.history['accuracy']\n",
        "val_loss = lstm_model1_history.history['val_accuracy']\n",
        "epochs = range(1, len(loss) + 1)\n",
        "plt.plot(epochs, loss, 'g', label='Training accuracy')\n",
        "plt.plot(epochs, val_loss, 'r', label='Validation accuracy')\n",
        "plt.title('Training and validation accuracy')\n",
        "plt.xlabel('Epochs')\n",
        "plt.legend()\n",
        "plt.grid()\n",
        "plt.show()"
      ]
    },
    {
      "cell_type": "code",
      "source": [
        "import numpy as np\n",
        "from sklearn.metrics import confusion_matrix, ConfusionMatrixDisplay\n",
        "import matplotlib.pyplot as plt\n",
        "\n",
        "# Make predictions for the test sets\n",
        "y_true = lstm_model1.predict(X_test)\n",
        "\n",
        "# Convert probabilities to binary labels\n",
        "y_true = (y_true > 0.5).astype(int)\n",
        "\n",
        "# Compute confusion matrices\n",
        "cm_test = confusion_matrix(y_test, y_true)\n",
        "\n",
        "# Display the confusion matrix for the test set\n",
        "disp_test = ConfusionMatrixDisplay(confusion_matrix=cm_test, display_labels=['Positive', 'Negative'])\n",
        "disp_test.plot(cmap=plt.cm.Blues)\n",
        "plt.title(\"Confusion Matrix - Test Set\")\n",
        "plt.show()"
      ],
      "metadata": {
        "colab": {
          "base_uri": "https://localhost:8080/",
          "height": 490
        },
        "id": "7lflsFwRk91z",
        "outputId": "f69dcd68-a1a0-4b25-ff41-ed48588e5bbe"
      },
      "execution_count": null,
      "outputs": [
        {
          "output_type": "stream",
          "name": "stdout",
          "text": [
            "85/85 [==============================] - 5s 56ms/step\n"
          ]
        },
        {
          "output_type": "display_data",
          "data": {
            "text/plain": [
              "<Figure size 640x480 with 2 Axes>"
            ],
            "image/png": "[encoded data removed]"
          },
          "metadata": {}
        }
      ]
    },
    {
      "cell_type": "code",
      "source": [
        "\n",
        "from sklearn.metrics import confusion_matrix, ConfusionMatrixDisplay, classification_report\n",
        "\n",
        "# Print classification report for the test set\n",
        "print(\"Classification Report\")\n",
        "print(classification_report(y_test, y_true, target_names=['Negative', 'Positive']))"
      ],
      "metadata": {
        "colab": {
          "base_uri": "https://localhost:8080/"
        },
        "id": "BvIWdRE3nLVb",
        "outputId": "1fe6b8d9-4a7a-4724-81e2-16d1d18c2553"
      },
      "execution_count": null,
      "outputs": [
        {
          "output_type": "stream",
          "name": "stdout",
          "text": [
            "Classification Report\n",
            "              precision    recall  f1-score   support\n",
            "\n",
            "    Negative       0.87      0.79      0.83      1350\n",
            "    Positive       0.80      0.88      0.84      1350\n",
            "\n",
            "    accuracy                           0.83      2700\n",
            "   macro avg       0.84      0.83      0.83      2700\n",
            "weighted avg       0.84      0.83      0.83      2700\n",
            "\n"
          ]
        }
      ]
    },
    {
      "cell_type": "markdown",
      "metadata": {
        "id": "F8m70yZKEh_V"
      },
      "source": [
        "**CNN MODEL 2**"
      ]
    },
    {
      "cell_type": "code",
      "source": [
        "# Get \"Positive\" and \"Negative\" samples\n",
        "positive_samples = dataset[dataset['Sentiment'] == \"Positive\"]\n",
        "negative_samples = dataset[dataset['Sentiment'] == \"Negative\"]\n",
        "\n",
        "# Randomly select 4500 samples from each\n",
        "positive_samples = positive_samples.sample(n=4500, random_state=42)\n",
        "negative_samples = negative_samples.sample(n=4500, random_state=42)\n",
        "\n",
        "# Combine the samples\n",
        "balanced_dataset = pd.concat([positive_samples, negative_samples])\n",
        "\n",
        "# Shuffle the dataset\n",
        "dataset = balanced_dataset.sample(frac=1, random_state=42).reset_index(drop=True)\n",
        "\n",
        "sns.countplot(x='Sentiment', data=dataset)"
      ],
      "metadata": {
        "colab": {
          "base_uri": "https://localhost:8080/",
          "height": 467
        },
        "id": "eDebYohNzy5m",
        "outputId": "69521ce2-0c96-4539-d8f1-541c9c345f7c"
      },
      "execution_count": null,
      "outputs": [
        {
          "output_type": "execute_result",
          "data": {
            "text/plain": [
              "<Axes: xlabel='Sentiment', ylabel='count'>"
            ]
          },
          "metadata": {},
          "execution_count": 204
        },
        {
          "output_type": "display_data",
          "data": {
            "text/plain": [
              "<Figure size 640x480 with 1 Axes>"
            ],
            "image/png": "[encoded data removed]"
          },
          "metadata": {}
        }
      ]
    },
    {
      "cell_type": "code",
      "source": [
        "X = dataset['text_lemmatized']\n",
        "\n",
        "y = dataset['Sentiment']\n",
        "\n",
        "y = np.array(list(map(lambda x: 1 if x==\"Positive\" else 0, y)))\n"
      ],
      "metadata": {
        "id": "_ZEb5repxS94"
      },
      "execution_count": null,
      "outputs": []
    },
    {
      "cell_type": "code",
      "execution_count": null,
      "metadata": {
        "id": "M3w1lXZiLF2A"
      },
      "outputs": [],
      "source": [
        "# First split to get training+validation (70%) and test sets (30%)\n",
        "X_train_val, X_test, y_train_val, y_test = train_test_split(X, y, test_size=0.3, random_state=42, stratify=y)\n",
        "\n",
        "# Further split the training+validation set into training (60%) and validation (10%)\n",
        "X_train, X_val, y_train, y_val = train_test_split(X_train_val, y_train_val, test_size=1/7, random_state=42, stratify=y_train_val)\n",
        "\n",
        "# The test_size=1/7 ensures that the validation set is approximately 10% of the original dataset\n",
        "# and the training set is approximately 60% of the original dataset.\n"
      ]
    },
    {
      "cell_type": "markdown",
      "metadata": {
        "id": "W9a9X77gLF2C"
      },
      "source": [
        "PREPARING EMBEDDING LAYER"
      ]
    },
    {
      "cell_type": "code",
      "execution_count": null,
      "metadata": {
        "id": "6xz9mdQvLF2D"
      },
      "outputs": [],
      "source": [
        "# Embedding layer expects the words to be in numeric form\n",
        "# Using Tokenizer function from keras.preprocessing.text library\n",
        "# Method fit_on_text trains the tokenizer\n",
        "# Method texts_to_sequences converts sentences to their numeric form\n",
        "\n",
        "word_tokenizer = Tokenizer()\n",
        "word_tokenizer.fit_on_texts(X_train)\n",
        "\n",
        "X_train = word_tokenizer.texts_to_sequences(X_train)\n",
        "X_val = word_tokenizer.texts_to_sequences(X_val)\n",
        "X_test = word_tokenizer.texts_to_sequences(X_test)"
      ]
    },
    {
      "cell_type": "code",
      "execution_count": null,
      "metadata": {
        "id": "FId95Uq4LF2E"
      },
      "outputs": [],
      "source": [
        "import io\n",
        "import json"
      ]
    },
    {
      "cell_type": "code",
      "execution_count": null,
      "metadata": {
        "id": "f7dlkgxlLF2F"
      },
      "outputs": [],
      "source": [
        "# Saving\n",
        "tokenizer_json = word_tokenizer.to_json()\n",
        "with io.open('b3_tokenizer.json', 'w', encoding='utf-8') as f:\n",
        "    f.write(json.dumps(tokenizer_json, ensure_ascii=False))"
      ]
    },
    {
      "cell_type": "code",
      "execution_count": null,
      "metadata": {
        "colab": {
          "base_uri": "https://localhost:8080/"
        },
        "outputId": "c3640daf-e7d5-437b-82d5-fe02c69f9fdf",
        "id": "7VePcQMqLF2F"
      },
      "outputs": [
        {
          "output_type": "execute_result",
          "data": {
            "text/plain": [
              "7308"
            ]
          },
          "metadata": {},
          "execution_count": 210
        }
      ],
      "source": [
        "# Adding 1 to store dimensions for words for which no pretrained word embeddings exist\n",
        "\n",
        "vocab_length = len(word_tokenizer.word_index) + 1\n",
        "\n",
        "vocab_length"
      ]
    },
    {
      "cell_type": "code",
      "execution_count": null,
      "metadata": {
        "id": "EkJg7ROLLF2G"
      },
      "outputs": [],
      "source": [
        "# Padding all reviews to fixed length 100\n",
        "\n",
        "maxlen = 100\n",
        "\n",
        "X_train = pad_sequences(X_train, padding='post', maxlen=maxlen)\n",
        "X_val = pad_sequences(X_val, padding='post', maxlen=maxlen)\n",
        "X_test = pad_sequences(X_test, padding='post', maxlen=maxlen)"
      ]
    },
    {
      "cell_type": "code",
      "execution_count": null,
      "metadata": {
        "id": "nkHcEdKVLF2G"
      },
      "outputs": [],
      "source": [
        "\n",
        "# Load GloVe word embeddings and create an Embeddings Dictionary\n",
        "\n",
        "from numpy import asarray\n",
        "from numpy import zeros\n",
        "\n",
        "embeddings_dictionary = dict()\n",
        "glove_file = open('glove.6B.100d.txt', encoding=\"utf8\")\n",
        "\n",
        "for line in glove_file:\n",
        "    records = line.split()\n",
        "    word = records[0]\n",
        "    vector_dimensions = asarray(records[1:], dtype='float32')\n",
        "    embeddings_dictionary [word] = vector_dimensions\n",
        "glove_file.close()"
      ]
    },
    {
      "cell_type": "code",
      "execution_count": null,
      "metadata": {
        "id": "otCfXOzLLF2H"
      },
      "outputs": [],
      "source": [
        "# Create Embedding Matrix having 100 columns\n",
        "# Containing 100-dimensional GloVe word embeddings for all words in our corpus.\n",
        "\n",
        "embedding_matrix = zeros((vocab_length, 100))\n",
        "for word, index in word_tokenizer.word_index.items():\n",
        "    embedding_vector = embeddings_dictionary.get(word)\n",
        "    if embedding_vector is not None:\n",
        "        embedding_matrix[index] = embedding_vector"
      ]
    },
    {
      "cell_type": "code",
      "execution_count": null,
      "metadata": {
        "id": "NyF7gG6wEh_Z"
      },
      "outputs": [],
      "source": [
        "from keras.layers import Conv1D"
      ]
    },
    {
      "cell_type": "code",
      "execution_count": null,
      "metadata": {
        "id": "j9Rkxt2AEh_b"
      },
      "outputs": [],
      "source": [
        "# Neural Network architecture\n",
        "\n",
        "lstm_model2 = Sequential()\n",
        "embedding_layer = Embedding(vocab_length, 100, weights=[embedding_matrix], input_length=maxlen , trainable=False)\n",
        "lstm_model2.add(embedding_layer)\n",
        "lstm_model2.add(LSTM(128))\n",
        "#lstm_model2.add(Dense(100, activation='sigmoid'))\n",
        "lstm_model2.add(Dense(10, activation='sigmoid'))\n",
        "lstm_model2.add(Dense(1, activation='sigmoid'))\n",
        "\n"
      ]
    },
    {
      "cell_type": "code",
      "execution_count": null,
      "metadata": {
        "colab": {
          "base_uri": "https://localhost:8080/"
        },
        "outputId": "2829f5d2-df5a-4233-af65-16e4c541ec71",
        "id": "C9HQxm2kEh_d"
      },
      "outputs": [
        {
          "output_type": "stream",
          "name": "stdout",
          "text": [
            "Model: \"sequential_13\"\n",
            "_________________________________________________________________\n",
            " Layer (type)                Output Shape              Param #   \n",
            "=================================================================\n",
            " embedding_13 (Embedding)    (None, 100, 100)          730800    \n",
            "                                                                 \n",
            " lstm_12 (LSTM)              (None, 128)               117248    \n",
            "                                                                 \n",
            " dense_28 (Dense)            (None, 10)                1290      \n",
            "                                                                 \n",
            " dense_29 (Dense)            (None, 1)                 11        \n",
            "                                                                 \n",
            "=================================================================\n",
            "Total params: 849349 (3.24 MB)\n",
            "Trainable params: 118549 (463.08 KB)\n",
            "Non-trainable params: 730800 (2.79 MB)\n",
            "_________________________________________________________________\n",
            "None\n"
          ]
        }
      ],
      "source": [
        "# Model co.compile(optimizer='adam',loss='binary_crossentropy', metrics=['accuracy'])\n",
        "print(lstm_model2.summary())\n",
        "mpiling\n",
        "lstm_model2"
      ]
    },
    {
      "cell_type": "code",
      "execution_count": null,
      "metadata": {
        "colab": {
          "base_uri": "https://localhost:8080/"
        },
        "outputId": "733f143b-11a2-4ad6-b863-ac423552def1",
        "id": "2ko1cRlKEh_f"
      },
      "outputs": [
        {
          "output_type": "stream",
          "name": "stdout",
          "text": [
            "Epoch 1/100\n",
            "2/2 [==============================] - 15s 6s/step - loss: 0.7117 - accuracy: 0.5000 - val_loss: 0.7095 - val_accuracy: 0.5000\n",
            "Epoch 2/100\n",
            "2/2 [==============================] - 12s 4s/step - loss: 0.7091 - accuracy: 0.5000 - val_loss: 0.7066 - val_accuracy: 0.5000\n",
            "Epoch 3/100\n",
            "2/2 [==============================] - 12s 4s/step - loss: 0.7059 - accuracy: 0.5000 - val_loss: 0.7024 - val_accuracy: 0.5000\n",
            "Epoch 4/100\n",
            "2/2 [==============================] - 13s 4s/step - loss: 0.7012 - accuracy: 0.5000 - val_loss: 0.6941 - val_accuracy: 0.5000\n",
            "Epoch 5/100\n",
            "2/2 [==============================] - 14s 5s/step - loss: 0.6912 - accuracy: 0.5270 - val_loss: 0.6703 - val_accuracy: 0.5600\n",
            "Epoch 6/100\n",
            "2/2 [==============================] - 11s 4s/step - loss: 0.6571 - accuracy: 0.5904 - val_loss: 0.6782 - val_accuracy: 0.6011\n",
            "Epoch 7/100\n",
            "2/2 [==============================] - 11s 3s/step - loss: 0.6570 - accuracy: 0.6254 - val_loss: 0.6608 - val_accuracy: 0.6322\n",
            "Epoch 8/100\n",
            "2/2 [==============================] - 11s 3s/step - loss: 0.6517 - accuracy: 0.6333 - val_loss: 0.6271 - val_accuracy: 0.6578\n",
            "Epoch 9/100\n",
            "2/2 [==============================] - 13s 4s/step - loss: 0.6189 - accuracy: 0.6628 - val_loss: 0.6561 - val_accuracy: 0.6256\n",
            "Epoch 10/100\n",
            "2/2 [==============================] - 10s 3s/step - loss: 0.6345 - accuracy: 0.6459 - val_loss: 0.6180 - val_accuracy: 0.6756\n",
            "Epoch 11/100\n",
            "2/2 [==============================] - 11s 3s/step - loss: 0.6114 - accuracy: 0.6796 - val_loss: 0.6264 - val_accuracy: 0.6789\n",
            "Epoch 12/100\n",
            "2/2 [==============================] - 12s 4s/step - loss: 0.6189 - accuracy: 0.6761 - val_loss: 0.6060 - val_accuracy: 0.6900\n",
            "Epoch 13/100\n",
            "2/2 [==============================] - 12s 5s/step - loss: 0.5967 - accuracy: 0.6930 - val_loss: 0.6154 - val_accuracy: 0.6633\n",
            "Epoch 14/100\n",
            "2/2 [==============================] - 9s 3s/step - loss: 0.5956 - accuracy: 0.6909 - val_loss: 0.5677 - val_accuracy: 0.7344\n",
            "Epoch 15/100\n",
            "2/2 [==============================] - 11s 3s/step - loss: 0.5676 - accuracy: 0.7289 - val_loss: 0.5464 - val_accuracy: 0.7589\n",
            "Epoch 16/100\n",
            "2/2 [==============================] - 13s 3s/step - loss: 0.5507 - accuracy: 0.7487 - val_loss: 0.5757 - val_accuracy: 0.7089\n",
            "Epoch 17/100\n",
            "2/2 [==============================] - 11s 5s/step - loss: 0.5681 - accuracy: 0.7181 - val_loss: 0.5203 - val_accuracy: 0.7744\n",
            "Epoch 18/100\n",
            "2/2 [==============================] - 11s 3s/step - loss: 0.5295 - accuracy: 0.7785 - val_loss: 0.5042 - val_accuracy: 0.7889\n",
            "Epoch 19/100\n",
            "2/2 [==============================] - 12s 4s/step - loss: 0.5106 - accuracy: 0.7807 - val_loss: 0.5340 - val_accuracy: 0.7478\n",
            "Epoch 20/100\n",
            "2/2 [==============================] - 13s 3s/step - loss: 0.5236 - accuracy: 0.7544 - val_loss: 0.5145 - val_accuracy: 0.7800\n",
            "Epoch 21/100\n",
            "2/2 [==============================] - 11s 5s/step - loss: 0.5225 - accuracy: 0.7735 - val_loss: 0.4921 - val_accuracy: 0.7933\n",
            "Epoch 22/100\n",
            "2/2 [==============================] - 11s 4s/step - loss: 0.4952 - accuracy: 0.7887 - val_loss: 0.5200 - val_accuracy: 0.7578\n",
            "Epoch 23/100\n",
            "2/2 [==============================] - 11s 3s/step - loss: 0.5108 - accuracy: 0.7680 - val_loss: 0.4783 - val_accuracy: 0.7956\n",
            "Epoch 24/100\n",
            "2/2 [==============================] - 11s 3s/step - loss: 0.4813 - accuracy: 0.7959 - val_loss: 0.4844 - val_accuracy: 0.7956\n",
            "Epoch 25/100\n",
            "2/2 [==============================] - 10s 4s/step - loss: 0.4812 - accuracy: 0.7950 - val_loss: 0.4870 - val_accuracy: 0.7767\n",
            "Epoch 26/100\n",
            "2/2 [==============================] - 12s 4s/step - loss: 0.4765 - accuracy: 0.7904 - val_loss: 0.4621 - val_accuracy: 0.8033\n",
            "Epoch 27/100\n",
            "2/2 [==============================] - 13s 3s/step - loss: 0.4572 - accuracy: 0.8091 - val_loss: 0.4565 - val_accuracy: 0.8022\n",
            "Epoch 28/100\n",
            "2/2 [==============================] - 11s 3s/step - loss: 0.4475 - accuracy: 0.8124 - val_loss: 0.4711 - val_accuracy: 0.7933\n",
            "Epoch 29/100\n",
            "2/2 [==============================] - 11s 5s/step - loss: 0.4508 - accuracy: 0.8096 - val_loss: 0.4553 - val_accuracy: 0.8067\n",
            "Epoch 30/100\n",
            "2/2 [==============================] - 9s 3s/step - loss: 0.4539 - accuracy: 0.7998 - val_loss: 0.4481 - val_accuracy: 0.8033\n",
            "Epoch 31/100\n",
            "2/2 [==============================] - 11s 3s/step - loss: 0.4384 - accuracy: 0.8144 - val_loss: 0.4384 - val_accuracy: 0.8078\n",
            "Epoch 32/100\n",
            "2/2 [==============================] - 11s 4s/step - loss: 0.4281 - accuracy: 0.8200 - val_loss: 0.4367 - val_accuracy: 0.8078\n",
            "Epoch 33/100\n",
            "2/2 [==============================] - 10s 4s/step - loss: 0.4248 - accuracy: 0.8194 - val_loss: 0.4560 - val_accuracy: 0.8011\n",
            "Epoch 34/100\n",
            "2/2 [==============================] - 11s 3s/step - loss: 0.4272 - accuracy: 0.8215 - val_loss: 0.4443 - val_accuracy: 0.8089\n",
            "Epoch 35/100\n",
            "2/2 [==============================] - 11s 3s/step - loss: 0.4324 - accuracy: 0.8113 - val_loss: 0.4389 - val_accuracy: 0.8122\n",
            "Epoch 36/100\n",
            "2/2 [==============================] - 11s 5s/step - loss: 0.4210 - accuracy: 0.8213 - val_loss: 0.4175 - val_accuracy: 0.8167\n",
            "Epoch 37/100\n",
            "2/2 [==============================] - 9s 3s/step - loss: 0.4116 - accuracy: 0.8287 - val_loss: 0.4149 - val_accuracy: 0.8233\n",
            "Epoch 38/100\n",
            "2/2 [==============================] - 12s 4s/step - loss: 0.4041 - accuracy: 0.8348 - val_loss: 0.4293 - val_accuracy: 0.8078\n",
            "Epoch 39/100\n",
            "2/2 [==============================] - 11s 4s/step - loss: 0.4041 - accuracy: 0.8278 - val_loss: 0.4212 - val_accuracy: 0.8178\n",
            "Epoch 40/100\n",
            "2/2 [==============================] - 10s 4s/step - loss: 0.4040 - accuracy: 0.8307 - val_loss: 0.4444 - val_accuracy: 0.8100\n",
            "Epoch 41/100\n",
            "2/2 [==============================] - 10s 3s/step - loss: 0.4091 - accuracy: 0.8309 - val_loss: 0.4070 - val_accuracy: 0.8256\n",
            "Epoch 42/100\n",
            "2/2 [==============================] - 11s 3s/step - loss: 0.3957 - accuracy: 0.8378 - val_loss: 0.4050 - val_accuracy: 0.8356\n",
            "Epoch 43/100\n",
            "2/2 [==============================] - 11s 5s/step - loss: 0.3845 - accuracy: 0.8433 - val_loss: 0.4017 - val_accuracy: 0.8356\n",
            "Epoch 44/100\n",
            "2/2 [==============================] - 10s 3s/step - loss: 0.3808 - accuracy: 0.8467 - val_loss: 0.3957 - val_accuracy: 0.8278\n",
            "Epoch 45/100\n",
            "2/2 [==============================] - 11s 3s/step - loss: 0.3801 - accuracy: 0.8450 - val_loss: 0.4015 - val_accuracy: 0.8289\n",
            "Epoch 46/100\n",
            "2/2 [==============================] - 11s 4s/step - loss: 0.3784 - accuracy: 0.8448 - val_loss: 0.3910 - val_accuracy: 0.8300\n",
            "Epoch 47/100\n",
            "2/2 [==============================] - 10s 4s/step - loss: 0.3705 - accuracy: 0.8491 - val_loss: 0.3951 - val_accuracy: 0.8411\n",
            "Epoch 48/100\n",
            "2/2 [==============================] - 11s 4s/step - loss: 0.3657 - accuracy: 0.8559 - val_loss: 0.3912 - val_accuracy: 0.8411\n",
            "Epoch 49/100\n",
            "2/2 [==============================] - 11s 3s/step - loss: 0.3606 - accuracy: 0.8576 - val_loss: 0.3875 - val_accuracy: 0.8378\n",
            "Epoch 50/100\n",
            "2/2 [==============================] - 11s 4s/step - loss: 0.3564 - accuracy: 0.8602 - val_loss: 0.3891 - val_accuracy: 0.8389\n",
            "Epoch 51/100\n",
            "2/2 [==============================] - 10s 4s/step - loss: 0.3512 - accuracy: 0.8639 - val_loss: 0.3866 - val_accuracy: 0.8400\n",
            "Epoch 52/100\n",
            "2/2 [==============================] - 13s 5s/step - loss: 0.3481 - accuracy: 0.8613 - val_loss: 0.3976 - val_accuracy: 0.8300\n",
            "Epoch 53/100\n",
            "2/2 [==============================] - 23s 10s/step - loss: 0.3494 - accuracy: 0.8680 - val_loss: 0.3836 - val_accuracy: 0.8444\n",
            "Epoch 54/100\n",
            "2/2 [==============================] - 13s 5s/step - loss: 0.3488 - accuracy: 0.8650 - val_loss: 0.3801 - val_accuracy: 0.8411\n",
            "Epoch 55/100\n",
            "2/2 [==============================] - 9s 3s/step - loss: 0.3425 - accuracy: 0.8672 - val_loss: 0.4131 - val_accuracy: 0.8256\n",
            "Epoch 56/100\n",
            "2/2 [==============================] - 11s 3s/step - loss: 0.3475 - accuracy: 0.8633 - val_loss: 0.4201 - val_accuracy: 0.8289\n",
            "Epoch 57/100\n",
            "2/2 [==============================] - 11s 4s/step - loss: 0.3875 - accuracy: 0.8380 - val_loss: 0.4002 - val_accuracy: 0.8311\n",
            "Epoch 58/100\n",
            "2/2 [==============================] - 10s 3s/step - loss: 0.3589 - accuracy: 0.8587 - val_loss: 0.3882 - val_accuracy: 0.8378\n",
            "Epoch 59/100\n",
            "2/2 [==============================] - 11s 3s/step - loss: 0.3523 - accuracy: 0.8648 - val_loss: 0.3978 - val_accuracy: 0.8411\n",
            "Epoch 60/100\n",
            "2/2 [==============================] - 11s 3s/step - loss: 0.3443 - accuracy: 0.8676 - val_loss: 0.3988 - val_accuracy: 0.8367\n",
            "Epoch 61/100\n",
            "2/2 [==============================] - 11s 4s/step - loss: 0.3397 - accuracy: 0.8687 - val_loss: 0.3782 - val_accuracy: 0.8489\n",
            "Epoch 62/100\n",
            "2/2 [==============================] - 9s 3s/step - loss: 0.3491 - accuracy: 0.8693 - val_loss: 0.3716 - val_accuracy: 0.8556\n",
            "Epoch 63/100\n",
            "2/2 [==============================] - 11s 3s/step - loss: 0.3236 - accuracy: 0.8815 - val_loss: 0.3904 - val_accuracy: 0.8578\n",
            "Epoch 64/100\n",
            "2/2 [==============================] - 11s 4s/step - loss: 0.3305 - accuracy: 0.8817 - val_loss: 0.3824 - val_accuracy: 0.8511\n",
            "Epoch 65/100\n",
            "2/2 [==============================] - 10s 4s/step - loss: 0.3135 - accuracy: 0.8861 - val_loss: 0.3721 - val_accuracy: 0.8522\n",
            "Epoch 66/100\n",
            "2/2 [==============================] - 11s 4s/step - loss: 0.3207 - accuracy: 0.8804 - val_loss: 0.3668 - val_accuracy: 0.8578\n",
            "Epoch 67/100\n",
            "2/2 [==============================] - 11s 3s/step - loss: 0.3088 - accuracy: 0.8922 - val_loss: 0.3838 - val_accuracy: 0.8544\n",
            "Epoch 68/100\n",
            "2/2 [==============================] - 11s 5s/step - loss: 0.3065 - accuracy: 0.8907 - val_loss: 0.3818 - val_accuracy: 0.8500\n",
            "Epoch 69/100\n",
            "2/2 [==============================] - 9s 3s/step - loss: 0.2986 - accuracy: 0.8948 - val_loss: 0.3672 - val_accuracy: 0.8578\n",
            "Epoch 70/100\n",
            "2/2 [==============================] - 12s 3s/step - loss: 0.2950 - accuracy: 0.8974 - val_loss: 0.3855 - val_accuracy: 0.8533\n",
            "Epoch 71/100\n",
            "2/2 [==============================] - 12s 4s/step - loss: 0.2971 - accuracy: 0.8957 - val_loss: 0.3671 - val_accuracy: 0.8644\n",
            "Epoch 72/100\n",
            "2/2 [==============================] - 11s 4s/step - loss: 0.2865 - accuracy: 0.9044 - val_loss: 0.3887 - val_accuracy: 0.8511\n",
            "Epoch 73/100\n",
            "2/2 [==============================] - 9s 3s/step - loss: 0.2859 - accuracy: 0.9056 - val_loss: 0.3876 - val_accuracy: 0.8522\n",
            "Epoch 74/100\n",
            "2/2 [==============================] - 11s 3s/step - loss: 0.2789 - accuracy: 0.9070 - val_loss: 0.3846 - val_accuracy: 0.8478\n",
            "Epoch 75/100\n",
            "2/2 [==============================] - 12s 5s/step - loss: 0.2827 - accuracy: 0.9031 - val_loss: 0.3964 - val_accuracy: 0.8500\n",
            "Epoch 76/100\n",
            "2/2 [==============================] - 10s 3s/step - loss: 0.2902 - accuracy: 0.8969 - val_loss: 0.3681 - val_accuracy: 0.8633\n",
            "Epoch 77/100\n",
            "2/2 [==============================] - 11s 3s/step - loss: 0.2902 - accuracy: 0.8978 - val_loss: 0.3641 - val_accuracy: 0.8600\n",
            "Epoch 78/100\n",
            "2/2 [==============================] - 12s 4s/step - loss: 0.2699 - accuracy: 0.9133 - val_loss: 0.4101 - val_accuracy: 0.8433\n",
            "Epoch 79/100\n",
            "2/2 [==============================] - 11s 5s/step - loss: 0.2926 - accuracy: 0.8930 - val_loss: 0.3753 - val_accuracy: 0.8578\n",
            "Epoch 80/100\n",
            "2/2 [==============================] - 10s 3s/step - loss: 0.2682 - accuracy: 0.9128 - val_loss: 0.3728 - val_accuracy: 0.8544\n",
            "Epoch 81/100\n",
            "2/2 [==============================] - 11s 3s/step - loss: 0.2844 - accuracy: 0.9019 - val_loss: 0.3836 - val_accuracy: 0.8500\n",
            "Epoch 82/100\n",
            "2/2 [==============================] - 11s 4s/step - loss: 0.2716 - accuracy: 0.9065 - val_loss: 0.3645 - val_accuracy: 0.8622\n",
            "Epoch 83/100\n",
            "2/2 [==============================] - 10s 3s/step - loss: 0.2586 - accuracy: 0.9189 - val_loss: 0.3773 - val_accuracy: 0.8578\n",
            "Epoch 84/100\n",
            "2/2 [==============================] - 11s 3s/step - loss: 0.2583 - accuracy: 0.9222 - val_loss: 0.4437 - val_accuracy: 0.8267\n",
            "Epoch 85/100\n",
            "2/2 [==============================] - 11s 3s/step - loss: 0.3071 - accuracy: 0.8885 - val_loss: 0.3834 - val_accuracy: 0.8478\n",
            "Epoch 86/100\n",
            "2/2 [==============================] - 11s 4s/step - loss: 0.3000 - accuracy: 0.8933 - val_loss: 0.3737 - val_accuracy: 0.8433\n",
            "Epoch 87/100\n",
            "2/2 [==============================] - 9s 3s/step - loss: 0.2800 - accuracy: 0.9019 - val_loss: 0.3576 - val_accuracy: 0.8644\n",
            "Epoch 88/100\n",
            "2/2 [==============================] - 11s 3s/step - loss: 0.2654 - accuracy: 0.9167 - val_loss: 0.3777 - val_accuracy: 0.8533\n",
            "Epoch 89/100\n",
            "2/2 [==============================] - 11s 4s/step - loss: 0.2565 - accuracy: 0.9191 - val_loss: 0.3954 - val_accuracy: 0.8544\n",
            "Epoch 90/100\n",
            "2/2 [==============================] - 9s 3s/step - loss: 0.2556 - accuracy: 0.9180 - val_loss: 0.3652 - val_accuracy: 0.8622\n",
            "Epoch 91/100\n",
            "2/2 [==============================] - 11s 3s/step - loss: 0.2609 - accuracy: 0.9104 - val_loss: 0.3767 - val_accuracy: 0.8611\n",
            "Epoch 92/100\n",
            "2/2 [==============================] - 11s 3s/step - loss: 0.2522 - accuracy: 0.9219 - val_loss: 0.3624 - val_accuracy: 0.8600\n",
            "Epoch 93/100\n",
            "2/2 [==============================] - 10s 4s/step - loss: 0.2424 - accuracy: 0.9259 - val_loss: 0.3988 - val_accuracy: 0.8522\n",
            "Epoch 94/100\n",
            "2/2 [==============================] - 9s 3s/step - loss: 0.2462 - accuracy: 0.9230 - val_loss: 0.4119 - val_accuracy: 0.8522\n",
            "Epoch 95/100\n",
            "2/2 [==============================] - 11s 3s/step - loss: 0.2417 - accuracy: 0.9261 - val_loss: 0.3826 - val_accuracy: 0.8589\n",
            "Epoch 96/100\n",
            "2/2 [==============================] - 12s 5s/step - loss: 0.2536 - accuracy: 0.9198 - val_loss: 0.3704 - val_accuracy: 0.8611\n",
            "Epoch 97/100\n",
            "2/2 [==============================] - 10s 4s/step - loss: 0.2342 - accuracy: 0.9283 - val_loss: 0.3629 - val_accuracy: 0.8578\n",
            "Epoch 98/100\n",
            "2/2 [==============================] - 11s 3s/step - loss: 0.2321 - accuracy: 0.9313 - val_loss: 0.3773 - val_accuracy: 0.8533\n",
            "Epoch 99/100\n",
            "2/2 [==============================] - 11s 3s/step - loss: 0.2430 - accuracy: 0.9265 - val_loss: 0.3924 - val_accuracy: 0.8611\n",
            "Epoch 100/100\n",
            "2/2 [==============================] - 10s 4s/step - loss: 0.2457 - accuracy: 0.9206 - val_loss: 0.3728 - val_accuracy: 0.8656\n"
          ]
        }
      ],
      "source": [
        "# Model training\n",
        "from sklearn.utils import shuffle\n",
        "from keras.callbacks import EarlyStopping\n",
        "\n",
        "lstm_model2_history = lstm_model2.fit(X_train, y_train, batch_size=4000, epochs=100, verbose=1, validation_data=(X_val,y_val))"
      ]
    },
    {
      "cell_type": "code",
      "execution_count": null,
      "metadata": {
        "colab": {
          "base_uri": "https://localhost:8080/"
        },
        "outputId": "2301b944-176a-45b9-e629-b4fbd35c4e8a",
        "id": "G3U1KWfDEh_h"
      },
      "outputs": [
        {
          "output_type": "stream",
          "name": "stdout",
          "text": [
            "85/85 [==============================] - 5s 57ms/step - loss: 0.3932 - accuracy: 0.8515\n"
          ]
        }
      ],
      "source": [
        "\n",
        "# Predictions on the Test Set\n",
        "\n",
        "score_lstm_model2= lstm_model2.evaluate(X_test, y_test, verbose=1)"
      ]
    },
    {
      "cell_type": "code",
      "execution_count": null,
      "metadata": {
        "colab": {
          "base_uri": "https://localhost:8080/"
        },
        "outputId": "2f0dafdb-359f-4ae5-94a9-a0a063602e5b",
        "id": "-895Hw6aEh_i"
      },
      "outputs": [
        {
          "output_type": "stream",
          "name": "stdout",
          "text": [
            "Test Accuracy: 85.15%\n",
            "Test Loss: 39.32%\n"
          ]
        }
      ],
      "source": [
        "print(\"Test Accuracy: %.2f%%\" % (score_lstm_model2[1]*100))\n",
        "print(\"Test Loss: %.2f%%\" % (score_lstm_model2[0]*100))"
      ]
    },
    {
      "cell_type": "code",
      "execution_count": null,
      "metadata": {
        "colab": {
          "base_uri": "https://localhost:8080/",
          "height": 472
        },
        "outputId": "d0649040-3f10-4d15-93d0-5d013e088cef",
        "id": "15MZ_YMaEh_k"
      },
      "outputs": [
        {
          "output_type": "display_data",
          "data": {
            "text/plain": [
              "<Figure size 640x480 with 1 Axes>"
            ],
            "image/png": "[encoded data removed]"
          },
          "metadata": {}
        }
      ],
      "source": [
        "from matplotlib import pyplot as plt\n",
        "loss = lstm_model2_history.history['loss']\n",
        "val_loss = lstm_model2_history.history['val_loss']\n",
        "epochs = range(1, len(loss) + 1)\n",
        "plt.plot(epochs, loss, 'g', label='Training loss')\n",
        "plt.plot(epochs, val_loss, 'r', label='Validation loss')\n",
        "plt.title('Training and validation loss')\n",
        "plt.xlabel('Epochs')\n",
        "plt.legend()\n",
        "plt.grid()\n",
        "plt.show()"
      ]
    },
    {
      "cell_type": "code",
      "execution_count": null,
      "metadata": {
        "colab": {
          "base_uri": "https://localhost:8080/",
          "height": 472
        },
        "outputId": "d90b5bc1-8abb-41fa-bfe8-651e3a84cdf6",
        "id": "Y0sqV-7eEh_l"
      },
      "outputs": [
        {
          "output_type": "display_data",
          "data": {
            "text/plain": [
              "<Figure size 640x480 with 1 Axes>"
            ],
            "image/png": "[encoded data removed]"
          },
          "metadata": {}
        }
      ],
      "source": [
        "from matplotlib import pyplot as plt\n",
        "loss = lstm_model2_history.history['accuracy']\n",
        "val_loss = lstm_model2_history.history['val_accuracy']\n",
        "epochs = range(1, len(loss) + 1)\n",
        "plt.plot(epochs, loss, 'g', label='Training accuracy')\n",
        "plt.plot(epochs, val_loss, 'r', label='Validation accuracy')\n",
        "plt.title('Training and validation accuracy')\n",
        "plt.xlabel('Epochs')\n",
        "plt.legend()\n",
        "plt.grid()\n",
        "plt.show()"
      ]
    },
    {
      "cell_type": "code",
      "source": [
        "import numpy as np\n",
        "from sklearn.metrics import confusion_matrix, ConfusionMatrixDisplay\n",
        "import matplotlib.pyplot as plt\n",
        "\n",
        "# Make predictions for the test sets\n",
        "y_true = lstm_model2.predict(X_test)\n",
        "\n",
        "# Convert probabilities to binary labels\n",
        "y_true = (y_true > 0.5).astype(int)\n",
        "\n",
        "# Compute confusion matrices\n",
        "cm_test = confusion_matrix(y_test, y_true)\n",
        "\n",
        "# Display the confusion matrix for the test set\n",
        "disp_test = ConfusionMatrixDisplay(confusion_matrix=cm_test, display_labels=['Positive', 'Negative'])\n",
        "disp_test.plot(cmap=plt.cm.Blues)\n",
        "plt.title(\"Confusion Matrix - Test Set\")\n",
        "plt.show()"
      ],
      "metadata": {
        "colab": {
          "base_uri": "https://localhost:8080/",
          "height": 490
        },
        "outputId": "58bdf127-835c-4e6d-e5f4-caa7cb70a76d",
        "id": "H5ra61j5Eh_n"
      },
      "execution_count": null,
      "outputs": [
        {
          "output_type": "stream",
          "name": "stdout",
          "text": [
            "85/85 [==============================] - 5s 53ms/step\n"
          ]
        },
        {
          "output_type": "display_data",
          "data": {
            "text/plain": [
              "<Figure size 640x480 with 2 Axes>"
            ],
            "image/png": "[encoded data removed]"
          },
          "metadata": {}
        }
      ]
    },
    {
      "cell_type": "code",
      "source": [
        "from sklearn.metrics import confusion_matrix, ConfusionMatrixDisplay, classification_report\n",
        "\n",
        "# Print classification report for the test set\n",
        "print(\"Classification Report\")\n",
        "print(classification_report(y_test, y_true, target_names=['Negative', 'Positive']))"
      ],
      "metadata": {
        "colab": {
          "base_uri": "https://localhost:8080/"
        },
        "outputId": "c78339fd-ec7f-496d-cf4a-4f157a7634be",
        "id": "HQe3TbDLEh_o"
      },
      "execution_count": null,
      "outputs": [
        {
          "output_type": "stream",
          "name": "stdout",
          "text": [
            "Classification Report\n",
            "              precision    recall  f1-score   support\n",
            "\n",
            "    Negative       0.81      0.92      0.86      1350\n",
            "    Positive       0.90      0.79      0.84      1350\n",
            "\n",
            "    accuracy                           0.85      2700\n",
            "   macro avg       0.86      0.85      0.85      2700\n",
            "weighted avg       0.86      0.85      0.85      2700\n",
            "\n"
          ]
        }
      ]
    },
    {
      "cell_type": "markdown",
      "source": [
        "**SPLIT 80-20**"
      ],
      "metadata": {
        "id": "Vf6LgdpNFN6W"
      }
    },
    {
      "cell_type": "markdown",
      "source": [
        "**LSTM MODEL 3**"
      ],
      "metadata": {
        "id": "tjR0AOMnFHzA"
      }
    },
    {
      "cell_type": "code",
      "source": [
        "from sklearn.model_selection import train_test_split\n",
        "\n",
        "# First split to get training+validation (80%) and test sets (20%)\n",
        "X_train_val, X_test, y_train_val, y_test = train_test_split(X, y, test_size=0.2, random_state=42, stratify=y)\n",
        "\n",
        "# Further split the training+validation set into training (70%) and validation (10%)\n",
        "X_train, X_val, y_train, y_val = train_test_split(X_train_val, y_train_val, test_size=0.125, random_state=42, stratify=y_train_val)\n",
        "\n",
        "# The test_size=0.125 ensures that the validation set is approximately 10% of the original dataset\n",
        "# because 0.125 of 80% is 10%.\n"
      ],
      "metadata": {
        "id": "FbyX92sfFBDM"
      },
      "execution_count": null,
      "outputs": []
    },
    {
      "cell_type": "code",
      "source": [
        "X_train.shape"
      ],
      "metadata": {
        "colab": {
          "base_uri": "https://localhost:8080/"
        },
        "outputId": "a47e173e-35d8-44f5-814c-4e202ce2ab47",
        "id": "l3k63kpWFBDP"
      },
      "execution_count": null,
      "outputs": [
        {
          "output_type": "execute_result",
          "data": {
            "text/plain": [
              "(6300,)"
            ]
          },
          "metadata": {},
          "execution_count": 16
        }
      ]
    },
    {
      "cell_type": "code",
      "source": [
        "X_val.shape"
      ],
      "metadata": {
        "colab": {
          "base_uri": "https://localhost:8080/"
        },
        "outputId": "6fa80d94-9324-430c-a507-6467d1470031",
        "id": "tRj1P1U7FBDR"
      },
      "execution_count": null,
      "outputs": [
        {
          "output_type": "execute_result",
          "data": {
            "text/plain": [
              "(900,)"
            ]
          },
          "metadata": {},
          "execution_count": 17
        }
      ]
    },
    {
      "cell_type": "code",
      "source": [
        "X_test.shape"
      ],
      "metadata": {
        "colab": {
          "base_uri": "https://localhost:8080/"
        },
        "outputId": "81c08486-b734-4268-e122-fff11a1cad64",
        "id": "WNYu_Ox_FBDS"
      },
      "execution_count": null,
      "outputs": [
        {
          "output_type": "execute_result",
          "data": {
            "text/plain": [
              "(1800,)"
            ]
          },
          "metadata": {},
          "execution_count": 18
        }
      ]
    },
    {
      "cell_type": "markdown",
      "metadata": {
        "id": "r-t4kefOFBDT"
      },
      "source": [
        "PREPARING EMBEDDING LAYER"
      ]
    },
    {
      "cell_type": "code",
      "execution_count": null,
      "metadata": {
        "id": "jPv_8NnjFBDV"
      },
      "outputs": [],
      "source": [
        "# Embedding layer expects the words to be in numeric form\n",
        "# Using Tokenizer function from keras.preprocessing.text library\n",
        "# Method fit_on_text trains the tokenizer\n",
        "# Method texts_to_sequences converts sentences to their numeric form\n",
        "\n",
        "word_tokenizer = Tokenizer()\n",
        "word_tokenizer.fit_on_texts(X_train)\n",
        "\n",
        "X_train = word_tokenizer.texts_to_sequences(X_train)\n",
        "X_val = word_tokenizer.texts_to_sequences(X_val)\n",
        "X_test = word_tokenizer.texts_to_sequences(X_test)"
      ]
    },
    {
      "cell_type": "code",
      "execution_count": null,
      "metadata": {
        "id": "pU14nzHaFBDX"
      },
      "outputs": [],
      "source": [
        "import io\n",
        "import json"
      ]
    },
    {
      "cell_type": "code",
      "execution_count": null,
      "metadata": {
        "id": "HQrKhPEeFBDZ"
      },
      "outputs": [],
      "source": [
        "# Saving\n",
        "tokenizer_json = word_tokenizer.to_json()\n",
        "with io.open('b3_tokenizer.json', 'w', encoding='utf-8') as f:\n",
        "    f.write(json.dumps(tokenizer_json, ensure_ascii=False))"
      ]
    },
    {
      "cell_type": "code",
      "execution_count": null,
      "metadata": {
        "colab": {
          "base_uri": "https://localhost:8080/"
        },
        "outputId": "6076beb6-320f-4a35-86b1-9b4cafcf84dd",
        "id": "_vN8Fn18FBDa"
      },
      "outputs": [
        {
          "output_type": "execute_result",
          "data": {
            "text/plain": [
              "7957"
            ]
          },
          "metadata": {},
          "execution_count": 22
        }
      ],
      "source": [
        "# Adding 1 to store dimensions for words for which no pretrained word embeddings exist\n",
        "\n",
        "vocab_length = len(word_tokenizer.word_index) + 1\n",
        "\n",
        "vocab_length"
      ]
    },
    {
      "cell_type": "code",
      "execution_count": null,
      "metadata": {
        "id": "_NYvbM7YFBDc"
      },
      "outputs": [],
      "source": [
        "# Padding all reviews to fixed length 100\n",
        "\n",
        "maxlen = 100\n",
        "\n",
        "X_train = pad_sequences(X_train, padding='post', maxlen=maxlen)\n",
        "X_val = pad_sequences(X_val, padding='post', maxlen=maxlen)\n",
        "X_test = pad_sequences(X_test, padding='post', maxlen=maxlen)"
      ]
    },
    {
      "cell_type": "code",
      "execution_count": null,
      "metadata": {
        "id": "ppJ6jIHgFBDd"
      },
      "outputs": [],
      "source": [
        "\n",
        "# Load GloVe word embeddings and create an Embeddings Dictionary\n",
        "\n",
        "from numpy import asarray\n",
        "from numpy import zeros\n",
        "\n",
        "embeddings_dictionary = dict()\n",
        "glove_file = open('glove.6B.100d.txt', encoding=\"utf8\")\n",
        "\n",
        "for line in glove_file:\n",
        "    records = line.split()\n",
        "    word = records[0]\n",
        "    vector_dimensions = asarray(records[1:], dtype='float32')\n",
        "    embeddings_dictionary [word] = vector_dimensions\n",
        "glove_file.close()"
      ]
    },
    {
      "cell_type": "code",
      "execution_count": null,
      "metadata": {
        "id": "OmIVsdhUFBDf"
      },
      "outputs": [],
      "source": [
        "# Create Embedding Matrix having 100 columns\n",
        "# Containing 100-dimensional GloVe word embeddings for all words in our corpus.\n",
        "\n",
        "embedding_matrix = zeros((vocab_length, 100))\n",
        "for word, index in word_tokenizer.word_index.items():\n",
        "    embedding_vector = embeddings_dictionary.get(word)\n",
        "    if embedding_vector is not None:\n",
        "        embedding_matrix[index] = embedding_vector"
      ]
    },
    {
      "cell_type": "code",
      "execution_count": null,
      "metadata": {
        "colab": {
          "base_uri": "https://localhost:8080/"
        },
        "outputId": "7bc6533b-57cb-400e-d09f-53be68b1b633",
        "id": "iUQQZewvFBDh"
      },
      "outputs": [
        {
          "output_type": "execute_result",
          "data": {
            "text/plain": [
              "(7957, 100)"
            ]
          },
          "metadata": {},
          "execution_count": 26
        }
      ],
      "source": [
        "embedding_matrix.shape"
      ]
    },
    {
      "cell_type": "code",
      "source": [
        "X_train.shape"
      ],
      "metadata": {
        "colab": {
          "base_uri": "https://localhost:8080/"
        },
        "outputId": "88ea7cf1-6bc0-4293-9bba-087a1b015d2b",
        "id": "RsIdi67CFBDi"
      },
      "execution_count": null,
      "outputs": [
        {
          "output_type": "execute_result",
          "data": {
            "text/plain": [
              "(6300, 100)"
            ]
          },
          "metadata": {},
          "execution_count": 27
        }
      ]
    },
    {
      "cell_type": "code",
      "source": [
        "X_val.shape"
      ],
      "metadata": {
        "colab": {
          "base_uri": "https://localhost:8080/"
        },
        "outputId": "d60b1685-a532-43fb-c9eb-11ccdacb3bca",
        "id": "4frUc4z-FBDk"
      },
      "execution_count": null,
      "outputs": [
        {
          "output_type": "execute_result",
          "data": {
            "text/plain": [
              "(900, 100)"
            ]
          },
          "metadata": {},
          "execution_count": 28
        }
      ]
    },
    {
      "cell_type": "code",
      "source": [
        "X_test.shape"
      ],
      "metadata": {
        "colab": {
          "base_uri": "https://localhost:8080/"
        },
        "outputId": "4bc99196-db79-4293-ea08-47ecd0a64280",
        "id": "_ZeQ_sBfFBDo"
      },
      "execution_count": null,
      "outputs": [
        {
          "output_type": "execute_result",
          "data": {
            "text/plain": [
              "(1800, 100)"
            ]
          },
          "metadata": {},
          "execution_count": 29
        }
      ]
    },
    {
      "cell_type": "code",
      "execution_count": null,
      "metadata": {
        "id": "u8KZ3ElnFBDs"
      },
      "outputs": [],
      "source": [
        "from keras.layers import LSTM"
      ]
    },
    {
      "cell_type": "code",
      "execution_count": null,
      "metadata": {
        "id": "YNuBied2FBDt"
      },
      "outputs": [],
      "source": [
        "# Neural Network architecture\n",
        "\n",
        "lstm_model3 = Sequential()\n",
        "embedding_layer = Embedding(vocab_length, 100, weights=[embedding_matrix], input_length=maxlen , trainable=False)\n",
        "lstm_model3.add(embedding_layer)\n",
        "lstm_model3.add(LSTM(128))\n",
        "lstm_model3.add(Dense(50, activation='sigmoid'))\n",
        "lstm_model3.add(Dense(1, activation='sigmoid'))\n",
        "\n"
      ]
    },
    {
      "cell_type": "code",
      "execution_count": null,
      "metadata": {
        "colab": {
          "base_uri": "https://localhost:8080/"
        },
        "outputId": "61d9a7ba-6af1-4881-c098-8f52bb4b9fe4",
        "id": "2O1FwkamFBDu"
      },
      "outputs": [
        {
          "output_type": "stream",
          "name": "stdout",
          "text": [
            "Model: \"sequential\"\n",
            "_________________________________________________________________\n",
            " Layer (type)                Output Shape              Param #   \n",
            "=================================================================\n",
            " embedding (Embedding)       (None, 100, 100)          795700    \n",
            "                                                                 \n",
            " lstm (LSTM)                 (None, 128)               117248    \n",
            "                                                                 \n",
            " dense (Dense)               (None, 50)                6450      \n",
            "                                                                 \n",
            " dense_1 (Dense)             (None, 1)                 51        \n",
            "                                                                 \n",
            "=================================================================\n",
            "Total params: 919449 (3.51 MB)\n",
            "Trainable params: 123749 (483.39 KB)\n",
            "Non-trainable params: 795700 (3.04 MB)\n",
            "_________________________________________________________________\n",
            "None\n"
          ]
        }
      ],
      "source": [
        "# Model compiling\n",
        "lstm_model3.compile(optimizer='adam',loss='binary_crossentropy', metrics=['accuracy'])\n",
        "print(lstm_model3.summary())\n"
      ]
    },
    {
      "cell_type": "code",
      "execution_count": null,
      "metadata": {
        "colab": {
          "base_uri": "https://localhost:8080/"
        },
        "outputId": "2fca52cb-1831-4e81-eb18-be25aaf4350d",
        "id": "tWUG2-E8FBDv"
      },
      "outputs": [
        {
          "output_type": "stream",
          "name": "stdout",
          "text": [
            "Epoch 1/50\n",
            "2/2 [==============================] - 35s 13s/step - loss: 0.7980 - accuracy: 0.5000 - val_loss: 0.7868 - val_accuracy: 0.5000\n",
            "Epoch 2/50\n",
            "2/2 [==============================] - 17s 5s/step - loss: 0.7842 - accuracy: 0.5000 - val_loss: 0.7726 - val_accuracy: 0.5000\n",
            "Epoch 3/50\n",
            "2/2 [==============================] - 12s 4s/step - loss: 0.7700 - accuracy: 0.5000 - val_loss: 0.7567 - val_accuracy: 0.5000\n",
            "Epoch 4/50\n",
            "2/2 [==============================] - 13s 4s/step - loss: 0.7533 - accuracy: 0.5000 - val_loss: 0.7337 - val_accuracy: 0.5000\n",
            "Epoch 5/50\n",
            "2/2 [==============================] - 13s 5s/step - loss: 0.7266 - accuracy: 0.5000 - val_loss: 0.6827 - val_accuracy: 0.5544\n",
            "Epoch 6/50\n",
            "2/2 [==============================] - 13s 6s/step - loss: 0.6772 - accuracy: 0.5683 - val_loss: 0.6358 - val_accuracy: 0.6478\n",
            "Epoch 7/50\n",
            "2/2 [==============================] - 12s 5s/step - loss: 0.6400 - accuracy: 0.6437 - val_loss: 0.6306 - val_accuracy: 0.6633\n",
            "Epoch 8/50\n",
            "2/2 [==============================] - 12s 5s/step - loss: 0.6333 - accuracy: 0.6471 - val_loss: 0.6183 - val_accuracy: 0.6633\n",
            "Epoch 9/50\n",
            "2/2 [==============================] - 13s 4s/step - loss: 0.6211 - accuracy: 0.6676 - val_loss: 0.6177 - val_accuracy: 0.6689\n",
            "Epoch 10/50\n",
            "2/2 [==============================] - 12s 4s/step - loss: 0.6162 - accuracy: 0.6665 - val_loss: 0.6143 - val_accuracy: 0.6756\n",
            "Epoch 11/50\n",
            "2/2 [==============================] - 12s 5s/step - loss: 0.6142 - accuracy: 0.6752 - val_loss: 0.6052 - val_accuracy: 0.6778\n",
            "Epoch 12/50\n",
            "2/2 [==============================] - 12s 6s/step - loss: 0.6090 - accuracy: 0.6700 - val_loss: 0.5929 - val_accuracy: 0.6956\n",
            "Epoch 13/50\n",
            "2/2 [==============================] - 11s 5s/step - loss: 0.5963 - accuracy: 0.6948 - val_loss: 0.5923 - val_accuracy: 0.7089\n",
            "Epoch 14/50\n",
            "2/2 [==============================] - 12s 4s/step - loss: 0.5901 - accuracy: 0.7035 - val_loss: 0.5845 - val_accuracy: 0.6989\n",
            "Epoch 15/50\n",
            "2/2 [==============================] - 13s 5s/step - loss: 0.5784 - accuracy: 0.7092 - val_loss: 0.5579 - val_accuracy: 0.7322\n",
            "Epoch 16/50\n",
            "2/2 [==============================] - 13s 5s/step - loss: 0.5559 - accuracy: 0.7389 - val_loss: 0.5414 - val_accuracy: 0.7389\n",
            "Epoch 17/50\n",
            "2/2 [==============================] - 15s 9s/step - loss: 0.5327 - accuracy: 0.7551 - val_loss: 0.5298 - val_accuracy: 0.7578\n",
            "Epoch 18/50\n",
            "2/2 [==============================] - 19s 6s/step - loss: 0.5141 - accuracy: 0.7689 - val_loss: 0.5305 - val_accuracy: 0.7578\n",
            "Epoch 19/50\n",
            "2/2 [==============================] - 13s 5s/step - loss: 0.5070 - accuracy: 0.7740 - val_loss: 0.5149 - val_accuracy: 0.7722\n",
            "Epoch 20/50\n",
            "2/2 [==============================] - 13s 6s/step - loss: 0.4926 - accuracy: 0.7819 - val_loss: 0.5029 - val_accuracy: 0.7700\n",
            "Epoch 21/50\n",
            "2/2 [==============================] - 12s 6s/step - loss: 0.4801 - accuracy: 0.7849 - val_loss: 0.4984 - val_accuracy: 0.7700\n",
            "Epoch 22/50\n",
            "2/2 [==============================] - 11s 4s/step - loss: 0.4735 - accuracy: 0.7903 - val_loss: 0.4866 - val_accuracy: 0.7789\n",
            "Epoch 23/50\n",
            "2/2 [==============================] - 12s 4s/step - loss: 0.4641 - accuracy: 0.7917 - val_loss: 0.4790 - val_accuracy: 0.7844\n",
            "Epoch 24/50\n",
            "2/2 [==============================] - 13s 5s/step - loss: 0.4553 - accuracy: 0.8003 - val_loss: 0.4763 - val_accuracy: 0.7822\n",
            "Epoch 25/50\n",
            "2/2 [==============================] - 15s 4s/step - loss: 0.4538 - accuracy: 0.7968 - val_loss: 0.4710 - val_accuracy: 0.7900\n",
            "Epoch 26/50\n",
            "2/2 [==============================] - 14s 6s/step - loss: 0.4448 - accuracy: 0.7995 - val_loss: 0.4702 - val_accuracy: 0.7956\n",
            "Epoch 27/50\n",
            "2/2 [==============================] - 13s 7s/step - loss: 0.4440 - accuracy: 0.8073 - val_loss: 0.4620 - val_accuracy: 0.7956\n",
            "Epoch 28/50\n",
            "2/2 [==============================] - 12s 5s/step - loss: 0.4362 - accuracy: 0.8108 - val_loss: 0.4612 - val_accuracy: 0.7900\n",
            "Epoch 29/50\n",
            "2/2 [==============================] - 12s 4s/step - loss: 0.4322 - accuracy: 0.8083 - val_loss: 0.4668 - val_accuracy: 0.7978\n",
            "Epoch 30/50\n",
            "2/2 [==============================] - 13s 5s/step - loss: 0.4374 - accuracy: 0.8127 - val_loss: 0.4598 - val_accuracy: 0.7956\n",
            "Epoch 31/50\n",
            "2/2 [==============================] - 13s 5s/step - loss: 0.4254 - accuracy: 0.8176 - val_loss: 0.4624 - val_accuracy: 0.7967\n",
            "Epoch 32/50\n",
            "2/2 [==============================] - 13s 6s/step - loss: 0.4202 - accuracy: 0.8200 - val_loss: 0.4550 - val_accuracy: 0.8022\n",
            "Epoch 33/50\n",
            "2/2 [==============================] - 12s 6s/step - loss: 0.4155 - accuracy: 0.8210 - val_loss: 0.4570 - val_accuracy: 0.7889\n",
            "Epoch 34/50\n",
            "2/2 [==============================] - 11s 4s/step - loss: 0.4133 - accuracy: 0.8237 - val_loss: 0.4625 - val_accuracy: 0.7900\n",
            "Epoch 35/50\n",
            "2/2 [==============================] - 13s 5s/step - loss: 0.4123 - accuracy: 0.8181 - val_loss: 0.4524 - val_accuracy: 0.7989\n",
            "Epoch 36/50\n",
            "2/2 [==============================] - 15s 5s/step - loss: 0.4093 - accuracy: 0.8206 - val_loss: 0.4538 - val_accuracy: 0.8011\n",
            "Epoch 37/50\n",
            "2/2 [==============================] - 14s 6s/step - loss: 0.4056 - accuracy: 0.8221 - val_loss: 0.4526 - val_accuracy: 0.7933\n",
            "Epoch 38/50\n",
            "2/2 [==============================] - 14s 7s/step - loss: 0.4020 - accuracy: 0.8271 - val_loss: 0.4540 - val_accuracy: 0.8033\n",
            "Epoch 39/50\n",
            "2/2 [==============================] - 13s 6s/step - loss: 0.3989 - accuracy: 0.8214 - val_loss: 0.4714 - val_accuracy: 0.7989\n",
            "Epoch 40/50\n",
            "2/2 [==============================] - 12s 5s/step - loss: 0.4274 - accuracy: 0.8132 - val_loss: 0.4482 - val_accuracy: 0.7900\n",
            "Epoch 41/50\n",
            "2/2 [==============================] - 14s 5s/step - loss: 0.4236 - accuracy: 0.8146 - val_loss: 0.4530 - val_accuracy: 0.7978\n",
            "Epoch 42/50\n",
            "2/2 [==============================] - 14s 5s/step - loss: 0.4187 - accuracy: 0.8229 - val_loss: 0.4595 - val_accuracy: 0.8089\n",
            "Epoch 43/50\n",
            "2/2 [==============================] - 14s 6s/step - loss: 0.4076 - accuracy: 0.8344 - val_loss: 0.4683 - val_accuracy: 0.8056\n",
            "Epoch 44/50\n",
            "2/2 [==============================] - 14s 7s/step - loss: 0.3952 - accuracy: 0.8322 - val_loss: 0.4449 - val_accuracy: 0.7989\n",
            "Epoch 45/50\n",
            "2/2 [==============================] - 14s 7s/step - loss: 0.3988 - accuracy: 0.8302 - val_loss: 0.4400 - val_accuracy: 0.8000\n",
            "Epoch 46/50\n",
            "2/2 [==============================] - 12s 6s/step - loss: 0.3839 - accuracy: 0.8375 - val_loss: 0.4582 - val_accuracy: 0.8044\n",
            "Epoch 47/50\n",
            "2/2 [==============================] - 12s 5s/step - loss: 0.3940 - accuracy: 0.8360 - val_loss: 0.4502 - val_accuracy: 0.8067\n",
            "Epoch 48/50\n",
            "2/2 [==============================] - 13s 4s/step - loss: 0.3866 - accuracy: 0.8330 - val_loss: 0.4349 - val_accuracy: 0.8033\n",
            "Epoch 49/50\n",
            "2/2 [==============================] - 13s 5s/step - loss: 0.3814 - accuracy: 0.8398 - val_loss: 0.4416 - val_accuracy: 0.8022\n",
            "Epoch 50/50\n",
            "2/2 [==============================] - 13s 7s/step - loss: 0.3804 - accuracy: 0.8383 - val_loss: 0.4452 - val_accuracy: 0.8022\n"
          ]
        }
      ],
      "source": [
        "# Model training\n",
        "lstm_model3_history = lstm_model3.fit(X_train, y_train, batch_size=4000, epochs=50, verbose=1, validation_data=(X_val,y_val))"
      ]
    },
    {
      "cell_type": "code",
      "execution_count": null,
      "metadata": {
        "colab": {
          "base_uri": "https://localhost:8080/"
        },
        "outputId": "cb577254-1e5b-4e23-b263-25b56204d9bf",
        "id": "O2eCAtJkFBDw"
      },
      "outputs": [
        {
          "output_type": "stream",
          "name": "stdout",
          "text": [
            "57/57 [==============================] - 4s 60ms/step - loss: 0.4083 - accuracy: 0.8200\n"
          ]
        }
      ],
      "source": [
        "\n",
        "# Predictions on the Test Set\n",
        "\n",
        "score_lstm_model3= lstm_model3.evaluate(X_test, y_test, verbose=1)"
      ]
    },
    {
      "cell_type": "code",
      "execution_count": null,
      "metadata": {
        "colab": {
          "base_uri": "https://localhost:8080/"
        },
        "outputId": "18b4af53-f6fe-4408-8578-9ec7384b073b",
        "id": "zSOjgieCFBDx"
      },
      "outputs": [
        {
          "output_type": "stream",
          "name": "stdout",
          "text": [
            "Test Accuracy: 82.00%\n",
            "Test Loss: 40.83%\n"
          ]
        }
      ],
      "source": [
        "print(\"Test Accuracy: %.2f%%\" % (score_lstm_model3[1]*100))\n",
        "print(\"Test Loss: %.2f%%\" % (score_lstm_model3[0]*100))"
      ]
    },
    {
      "cell_type": "code",
      "execution_count": null,
      "metadata": {
        "colab": {
          "base_uri": "https://localhost:8080/",
          "height": 472
        },
        "outputId": "2cd4a103-6c6e-46b2-b07f-a5426afa0924",
        "id": "Gi2oezgXFBDy"
      },
      "outputs": [
        {
          "output_type": "display_data",
          "data": {
            "text/plain": [
              "<Figure size 640x480 with 1 Axes>"
            ],
            "image/png": "[encoded data removed]"
          },
          "metadata": {}
        }
      ],
      "source": [
        "from matplotlib import pyplot as plt\n",
        "loss = lstm_model3_history.history['loss']\n",
        "val_loss = lstm_model3_history.history['val_loss']\n",
        "epochs = range(1, len(loss) + 1)\n",
        "plt.plot(epochs, loss, 'g', label='Training loss')\n",
        "plt.plot(epochs, val_loss, 'r', label='Validation loss')\n",
        "plt.title('Training and validation loss')\n",
        "plt.xlabel('Epochs')\n",
        "plt.legend()\n",
        "plt.grid()\n",
        "plt.show()"
      ]
    },
    {
      "cell_type": "code",
      "execution_count": null,
      "metadata": {
        "colab": {
          "base_uri": "https://localhost:8080/",
          "height": 472
        },
        "outputId": "4e4f5716-b122-4074-97f8-9acbcbc48636",
        "id": "810az03EFBDz"
      },
      "outputs": [
        {
          "output_type": "display_data",
          "data": {
            "text/plain": [
              "<Figure size 640x480 with 1 Axes>"
            ],
            "image/png": "[encoded data removed]"
          },
          "metadata": {}
        }
      ],
      "source": [
        "from matplotlib import pyplot as plt\n",
        "loss = lstm_model3_history.history['accuracy']\n",
        "val_loss = lstm_model3_history.history['val_accuracy']\n",
        "epochs = range(1, len(loss) + 1)\n",
        "plt.plot(epochs, loss, 'g', label='Training accuracy')\n",
        "plt.plot(epochs, val_loss, 'r', label='Validation accuracy')\n",
        "plt.title('Training and validation accuracy')\n",
        "plt.xlabel('Epochs')\n",
        "plt.legend()\n",
        "plt.grid()\n",
        "plt.show()"
      ]
    },
    {
      "cell_type": "code",
      "source": [
        "import numpy as np\n",
        "from sklearn.metrics import confusion_matrix, ConfusionMatrixDisplay\n",
        "import matplotlib.pyplot as plt\n",
        "\n",
        "# Make predictions for the test sets\n",
        "y_true = lstm_model3.predict(X_test)\n",
        "\n",
        "# Convert probabilities to binary labels\n",
        "y_true = (y_true > 0.5).astype(int)\n",
        "\n",
        "# Compute confusion matrices\n",
        "cm_test = confusion_matrix(y_test, y_true)\n",
        "\n",
        "# Display the confusion matrix for the test set\n",
        "disp_test = ConfusionMatrixDisplay(confusion_matrix=cm_test, display_labels=['Positive', 'Negative'])\n",
        "disp_test.plot(cmap=plt.cm.Blues)\n",
        "plt.title(\"Confusion Matrix - Test Set\")\n",
        "plt.show()"
      ],
      "metadata": {
        "colab": {
          "base_uri": "https://localhost:8080/",
          "height": 489
        },
        "outputId": "2fdfa49d-38ba-49a7-b233-23f4b480fbaf",
        "id": "kIaRz0CDFBD0"
      },
      "execution_count": null,
      "outputs": [
        {
          "output_type": "stream",
          "name": "stdout",
          "text": [
            "57/57 [==============================] - 4s 56ms/step\n"
          ]
        },
        {
          "output_type": "display_data",
          "data": {
            "text/plain": [
              "<Figure size 640x480 with 2 Axes>"
            ],
            "image/png": "[encoded data removed]"
          },
          "metadata": {}
        }
      ]
    },
    {
      "cell_type": "code",
      "source": [
        "\n",
        "from sklearn.metrics import confusion_matrix, ConfusionMatrixDisplay, classification_report\n",
        "\n",
        "# Print classification report for the test set\n",
        "print(\"Classification Report\")\n",
        "print(classification_report(y_test, y_true, target_names=['Negative', 'Positive']))"
      ],
      "metadata": {
        "colab": {
          "base_uri": "https://localhost:8080/"
        },
        "outputId": "ccb84d6d-9f6e-400d-a350-9a6de8a449b2",
        "id": "R8UduGpFFBD1"
      },
      "execution_count": null,
      "outputs": [
        {
          "output_type": "stream",
          "name": "stdout",
          "text": [
            "Classification Report\n",
            "              precision    recall  f1-score   support\n",
            "\n",
            "    Negative       0.81      0.83      0.82       900\n",
            "    Positive       0.83      0.81      0.82       900\n",
            "\n",
            "    accuracy                           0.82      1800\n",
            "   macro avg       0.82      0.82      0.82      1800\n",
            "weighted avg       0.82      0.82      0.82      1800\n",
            "\n"
          ]
        }
      ]
    },
    {
      "cell_type": "markdown",
      "metadata": {
        "id": "48nLsmui7vet"
      },
      "source": [
        "**CNN MODEL 4**"
      ]
    },
    {
      "cell_type": "code",
      "source": [
        "# Get \"Positive\" and \"Negative\" samples\n",
        "positive_samples = dataset[dataset['Sentiment'] == \"Positive\"]\n",
        "negative_samples = dataset[dataset['Sentiment'] == \"Negative\"]\n",
        "\n",
        "# Randomly select 4500 samples from each\n",
        "positive_samples = positive_samples.sample(n=4500, random_state=42)\n",
        "negative_samples = negative_samples.sample(n=4500, random_state=42)\n",
        "\n",
        "# Combine the samples\n",
        "balanced_dataset = pd.concat([positive_samples, negative_samples])\n",
        "\n",
        "# Shuffle the dataset\n",
        "dataset = balanced_dataset.sample(frac=1, random_state=42).reset_index(drop=True)\n",
        "\n",
        "sns.countplot(x='Sentiment', data=dataset)"
      ],
      "metadata": {
        "colab": {
          "base_uri": "https://localhost:8080/",
          "height": 467
        },
        "outputId": "129affa3-601e-4cd3-ca97-9b06d1c8f67a",
        "id": "F7xM-y6a7vet"
      },
      "execution_count": null,
      "outputs": [
        {
          "output_type": "execute_result",
          "data": {
            "text/plain": [
              "<Axes: xlabel='Sentiment', ylabel='count'>"
            ]
          },
          "metadata": {},
          "execution_count": 240
        },
        {
          "output_type": "display_data",
          "data": {
            "text/plain": [
              "<Figure size 640x480 with 1 Axes>"
            ],
            "image/png": "[encoded data removed]"
          },
          "metadata": {}
        }
      ]
    },
    {
      "cell_type": "code",
      "source": [
        "X = dataset['text_lemmatized']\n",
        "\n",
        "y = dataset['Sentiment']\n",
        "\n",
        "y = np.array(list(map(lambda x: 1 if x==\"Positive\" else 0, y)))\n"
      ],
      "metadata": {
        "id": "4TSF1VWl7veu"
      },
      "execution_count": null,
      "outputs": []
    },
    {
      "cell_type": "code",
      "execution_count": null,
      "metadata": {
        "id": "f1dx7IXP7veu"
      },
      "outputs": [],
      "source": [
        "from sklearn.model_selection import train_test_split\n",
        "\n",
        "# First split to get training+validation (80%) and test sets (20%)\n",
        "X_train_val, X_test, y_train_val, y_test = train_test_split(X, y, test_size=0.2, random_state=42, stratify=y)\n",
        "\n",
        "# Further split the training+validation set into training (70%) and validation (10%)\n",
        "X_train, X_val, y_train, y_val = train_test_split(X_train_val, y_train_val, test_size=0.125, random_state=42, stratify=y_train_val)\n",
        "\n",
        "# The test_size=0.125 ensures that the validation set is approximately 10% of the original dataset\n",
        "# because 0.125 of 80% is 10%.\n"
      ]
    },
    {
      "cell_type": "markdown",
      "metadata": {
        "id": "cEplU-JB7vev"
      },
      "source": [
        "PREPARING EMBEDDING LAYER"
      ]
    },
    {
      "cell_type": "code",
      "execution_count": null,
      "metadata": {
        "id": "YyuT-XXE7vev"
      },
      "outputs": [],
      "source": [
        "# Embedding layer expects the words to be in numeric form\n",
        "# Using Tokenizer function from keras.preprocessing.text library\n",
        "# Method fit_on_text trains the tokenizer\n",
        "# Method texts_to_sequences converts sentences to their numeric form\n",
        "\n",
        "word_tokenizer = Tokenizer()\n",
        "word_tokenizer.fit_on_texts(X_train)\n",
        "\n",
        "X_train = word_tokenizer.texts_to_sequences(X_train)\n",
        "X_val = word_tokenizer.texts_to_sequences(X_val)\n",
        "X_test = word_tokenizer.texts_to_sequences(X_test)"
      ]
    },
    {
      "cell_type": "code",
      "execution_count": null,
      "metadata": {
        "id": "3YMaHZW57vev"
      },
      "outputs": [],
      "source": [
        "import io\n",
        "import json"
      ]
    },
    {
      "cell_type": "code",
      "execution_count": null,
      "metadata": {
        "id": "jblbnf6T7vev"
      },
      "outputs": [],
      "source": [
        "# Saving\n",
        "tokenizer_json = word_tokenizer.to_json()\n",
        "with io.open('b3_tokenizer.json', 'w', encoding='utf-8') as f:\n",
        "    f.write(json.dumps(tokenizer_json, ensure_ascii=False))"
      ]
    },
    {
      "cell_type": "code",
      "execution_count": null,
      "metadata": {
        "colab": {
          "base_uri": "https://localhost:8080/"
        },
        "outputId": "91b4e4b8-673c-468a-92ec-1792074ef7f4",
        "id": "K5Tp_Y1x7vew"
      },
      "outputs": [
        {
          "output_type": "execute_result",
          "data": {
            "text/plain": [
              "8057"
            ]
          },
          "metadata": {},
          "execution_count": 246
        }
      ],
      "source": [
        "# Adding 1 to store dimensions for words for which no pretrained word embeddings exist\n",
        "\n",
        "vocab_length = len(word_tokenizer.word_index) + 1\n",
        "\n",
        "vocab_length"
      ]
    },
    {
      "cell_type": "code",
      "execution_count": null,
      "metadata": {
        "id": "2DH4c60_7vew"
      },
      "outputs": [],
      "source": [
        "# Padding all reviews to fixed length 100\n",
        "\n",
        "maxlen = 100\n",
        "\n",
        "X_train = pad_sequences(X_train, padding='post', maxlen=maxlen)\n",
        "X_val = pad_sequences(X_val, padding='post', maxlen=maxlen)\n",
        "X_test = pad_sequences(X_test, padding='post', maxlen=maxlen)"
      ]
    },
    {
      "cell_type": "code",
      "execution_count": null,
      "metadata": {
        "id": "5FwU6NT77vew"
      },
      "outputs": [],
      "source": [
        "\n",
        "# Load GloVe word embeddings and create an Embeddings Dictionary\n",
        "\n",
        "from numpy import asarray\n",
        "from numpy import zeros\n",
        "\n",
        "embeddings_dictionary = dict()\n",
        "glove_file = open('glove.6B.100d.txt', encoding=\"utf8\")\n",
        "\n",
        "for line in glove_file:\n",
        "    records = line.split()\n",
        "    word = records[0]\n",
        "    vector_dimensions = asarray(records[1:], dtype='float32')\n",
        "    embeddings_dictionary [word] = vector_dimensions\n",
        "glove_file.close()"
      ]
    },
    {
      "cell_type": "code",
      "execution_count": null,
      "metadata": {
        "id": "zUYlLZBz7vex"
      },
      "outputs": [],
      "source": [
        "# Create Embedding Matrix having 100 columns\n",
        "# Containing 100-dimensional GloVe word embeddings for all words in our corpus.\n",
        "\n",
        "embedding_matrix = zeros((vocab_length, 100))\n",
        "for word, index in word_tokenizer.word_index.items():\n",
        "    embedding_vector = embeddings_dictionary.get(word)\n",
        "    if embedding_vector is not None:\n",
        "        embedding_matrix[index] = embedding_vector"
      ]
    },
    {
      "cell_type": "code",
      "execution_count": null,
      "metadata": {
        "id": "v8IBKBZ47vex"
      },
      "outputs": [],
      "source": [
        "from keras.layers import Conv1D"
      ]
    },
    {
      "cell_type": "code",
      "execution_count": null,
      "metadata": {
        "id": "VcTSZL8N7vex"
      },
      "outputs": [],
      "source": [
        "# Neural Network architecture\n",
        "\n",
        "lstm_model4 = Sequential()\n",
        "embedding_layer = Embedding(vocab_length, 100, weights=[embedding_matrix], input_length=maxlen , trainable=False)\n",
        "lstm_model4.add(embedding_layer)\n",
        "lstm_model4.add(LSTM(128))\n",
        "lstm_model4.add(Dense(50, activation='sigmoid'))\n",
        "lstm_model4.add(Dense(1, activation='sigmoid'))\n",
        "\n"
      ]
    },
    {
      "cell_type": "code",
      "execution_count": null,
      "metadata": {
        "colab": {
          "base_uri": "https://localhost:8080/"
        },
        "outputId": "d8bcc4f3-67f4-4f39-95a4-31c76ff05046",
        "id": "I5QPCT1N7vex"
      },
      "outputs": [
        {
          "output_type": "stream",
          "name": "stdout",
          "text": [
            "Model: \"sequential_15\"\n",
            "_________________________________________________________________\n",
            " Layer (type)                Output Shape              Param #   \n",
            "=================================================================\n",
            " embedding_15 (Embedding)    (None, 100, 100)          805700    \n",
            "                                                                 \n",
            " lstm_14 (LSTM)              (None, 128)               117248    \n",
            "                                                                 \n",
            " dense_32 (Dense)            (None, 50)                6450      \n",
            "                                                                 \n",
            " dense_33 (Dense)            (None, 1)                 51        \n",
            "                                                                 \n",
            "=================================================================\n",
            "Total params: 929449 (3.55 MB)\n",
            "Trainable params: 123749 (483.39 KB)\n",
            "Non-trainable params: 805700 (3.07 MB)\n",
            "_________________________________________________________________\n",
            "None\n"
          ]
        }
      ],
      "source": [
        "# Model compiling\n",
        "lstm_model4.compile(optimizer='adam',loss='binary_crossentropy', metrics=['accuracy'])\n",
        "print(lstm_model4.summary())\n"
      ]
    },
    {
      "cell_type": "code",
      "execution_count": null,
      "metadata": {
        "colab": {
          "base_uri": "https://localhost:8080/"
        },
        "outputId": "57512558-0148-43c3-b54e-d70bf7fc6817",
        "id": "pO_PQanK7vex"
      },
      "outputs": [
        {
          "output_type": "stream",
          "name": "stdout",
          "text": [
            "Epoch 1/100\n",
            "2/2 [==============================] - 98s 5s/step - loss: 0.7211 - accuracy: 0.5000 - val_loss: 0.7152 - val_accuracy: 0.5000\n",
            "Epoch 2/100\n",
            "2/2 [==============================] - 13s 4s/step - loss: 0.7139 - accuracy: 0.5000 - val_loss: 0.7083 - val_accuracy: 0.5000\n",
            "Epoch 3/100\n",
            "2/2 [==============================] - 12s 5s/step - loss: 0.7071 - accuracy: 0.5000 - val_loss: 0.7014 - val_accuracy: 0.5000\n",
            "Epoch 4/100\n",
            "2/2 [==============================] - 13s 7s/step - loss: 0.7003 - accuracy: 0.5000 - val_loss: 0.6943 - val_accuracy: 0.5000\n",
            "Epoch 5/100\n",
            "2/2 [==============================] - 12s 6s/step - loss: 0.6945 - accuracy: 0.4975 - val_loss: 0.6933 - val_accuracy: 0.5022\n",
            "Epoch 6/100\n",
            "2/2 [==============================] - 12s 5s/step - loss: 0.6937 - accuracy: 0.5003 - val_loss: 0.6922 - val_accuracy: 0.5044\n",
            "Epoch 7/100\n",
            "2/2 [==============================] - 12s 4s/step - loss: 0.6927 - accuracy: 0.5006 - val_loss: 0.6921 - val_accuracy: 0.5044\n",
            "Epoch 8/100\n",
            "2/2 [==============================] - 13s 5s/step - loss: 0.6926 - accuracy: 0.5006 - val_loss: 0.6916 - val_accuracy: 0.5033\n",
            "Epoch 9/100\n",
            "2/2 [==============================] - 13s 5s/step - loss: 0.6921 - accuracy: 0.5003 - val_loss: 0.6890 - val_accuracy: 0.5089\n",
            "Epoch 10/100\n",
            "2/2 [==============================] - 13s 5s/step - loss: 0.6875 - accuracy: 0.5432 - val_loss: 0.6627 - val_accuracy: 0.6267\n",
            "Epoch 11/100\n",
            "2/2 [==============================] - 12s 6s/step - loss: 0.6924 - accuracy: 0.6075 - val_loss: 0.6558 - val_accuracy: 0.6322\n",
            "Epoch 12/100\n",
            "2/2 [==============================] - 17s 8s/step - loss: 0.6599 - accuracy: 0.6375 - val_loss: 0.6815 - val_accuracy: 0.5100\n",
            "Epoch 13/100\n",
            "2/2 [==============================] - 14s 8s/step - loss: 0.6845 - accuracy: 0.5084 - val_loss: 0.6899 - val_accuracy: 0.5044\n",
            "Epoch 14/100\n",
            "2/2 [==============================] - 12s 5s/step - loss: 0.6914 - accuracy: 0.5006 - val_loss: 0.6920 - val_accuracy: 0.5044\n",
            "Epoch 15/100\n",
            "2/2 [==============================] - 12s 4s/step - loss: 0.6929 - accuracy: 0.5005 - val_loss: 0.6916 - val_accuracy: 0.5044\n",
            "Epoch 16/100\n",
            "2/2 [==============================] - 12s 4s/step - loss: 0.6922 - accuracy: 0.5005 - val_loss: 0.6895 - val_accuracy: 0.5044\n",
            "Epoch 17/100\n",
            "2/2 [==============================] - 13s 5s/step - loss: 0.6897 - accuracy: 0.5005 - val_loss: 0.6850 - val_accuracy: 0.5044\n",
            "Epoch 18/100\n",
            "2/2 [==============================] - 12s 6s/step - loss: 0.6844 - accuracy: 0.5006 - val_loss: 0.6741 - val_accuracy: 0.5144\n",
            "Epoch 19/100\n",
            "2/2 [==============================] - 12s 6s/step - loss: 0.6708 - accuracy: 0.5424 - val_loss: 0.6468 - val_accuracy: 0.6789\n",
            "Epoch 20/100\n",
            "2/2 [==============================] - 12s 5s/step - loss: 0.6408 - accuracy: 0.6700 - val_loss: 0.6231 - val_accuracy: 0.6711\n",
            "Epoch 21/100\n",
            "2/2 [==============================] - 12s 4s/step - loss: 0.6227 - accuracy: 0.6675 - val_loss: 0.6181 - val_accuracy: 0.6744\n",
            "Epoch 22/100\n",
            "2/2 [==============================] - 12s 4s/step - loss: 0.6216 - accuracy: 0.6746 - val_loss: 0.6156 - val_accuracy: 0.6800\n",
            "Epoch 23/100\n",
            "2/2 [==============================] - 13s 5s/step - loss: 0.6203 - accuracy: 0.6746 - val_loss: 0.5919 - val_accuracy: 0.7078\n",
            "Epoch 24/100\n",
            "2/2 [==============================] - 13s 7s/step - loss: 0.6044 - accuracy: 0.6973 - val_loss: 0.5861 - val_accuracy: 0.7078\n",
            "Epoch 25/100\n",
            "2/2 [==============================] - 13s 6s/step - loss: 0.5944 - accuracy: 0.6990 - val_loss: 0.5756 - val_accuracy: 0.7244\n",
            "Epoch 26/100\n",
            "2/2 [==============================] - 11s 5s/step - loss: 0.5857 - accuracy: 0.7190 - val_loss: 0.5707 - val_accuracy: 0.7300\n",
            "Epoch 27/100\n",
            "2/2 [==============================] - 12s 4s/step - loss: 0.5793 - accuracy: 0.7216 - val_loss: 0.5712 - val_accuracy: 0.7211\n",
            "Epoch 28/100\n",
            "2/2 [==============================] - 12s 4s/step - loss: 0.5771 - accuracy: 0.7151 - val_loss: 0.5674 - val_accuracy: 0.7222\n",
            "Epoch 29/100\n",
            "2/2 [==============================] - 13s 4s/step - loss: 0.5728 - accuracy: 0.7167 - val_loss: 0.5563 - val_accuracy: 0.7433\n",
            "Epoch 30/100\n",
            "2/2 [==============================] - 13s 6s/step - loss: 0.5632 - accuracy: 0.7389 - val_loss: 0.5368 - val_accuracy: 0.7867\n",
            "Epoch 31/100\n",
            "2/2 [==============================] - 14s 7s/step - loss: 0.5653 - accuracy: 0.7543 - val_loss: 0.5254 - val_accuracy: 0.7611\n",
            "Epoch 32/100\n",
            "2/2 [==============================] - 12s 5s/step - loss: 0.5451 - accuracy: 0.7454 - val_loss: 0.5079 - val_accuracy: 0.7900\n",
            "Epoch 33/100\n",
            "2/2 [==============================] - 12s 5s/step - loss: 0.5339 - accuracy: 0.7738 - val_loss: 0.5145 - val_accuracy: 0.7744\n",
            "Epoch 34/100\n",
            "2/2 [==============================] - 13s 5s/step - loss: 0.5515 - accuracy: 0.7406 - val_loss: 0.5097 - val_accuracy: 0.7778\n",
            "Epoch 35/100\n",
            "2/2 [==============================] - 13s 5s/step - loss: 0.5238 - accuracy: 0.7687 - val_loss: 0.4956 - val_accuracy: 0.8033\n",
            "Epoch 36/100\n",
            "2/2 [==============================] - 12s 4s/step - loss: 0.5237 - accuracy: 0.7843 - val_loss: 0.4904 - val_accuracy: 0.7967\n",
            "Epoch 37/100\n",
            "2/2 [==============================] - 13s 5s/step - loss: 0.5125 - accuracy: 0.7770 - val_loss: 0.4973 - val_accuracy: 0.7833\n",
            "Epoch 38/100\n",
            "2/2 [==============================] - 12s 6s/step - loss: 0.5082 - accuracy: 0.7754 - val_loss: 0.4743 - val_accuracy: 0.8078\n",
            "Epoch 39/100\n",
            "2/2 [==============================] - 12s 5s/step - loss: 0.4983 - accuracy: 0.7917 - val_loss: 0.4650 - val_accuracy: 0.8100\n",
            "Epoch 40/100\n",
            "2/2 [==============================] - 11s 4s/step - loss: 0.4866 - accuracy: 0.7925 - val_loss: 0.4721 - val_accuracy: 0.7944\n",
            "Epoch 41/100\n",
            "2/2 [==============================] - 13s 5s/step - loss: 0.4815 - accuracy: 0.7895 - val_loss: 0.4550 - val_accuracy: 0.8222\n",
            "Epoch 42/100\n",
            "2/2 [==============================] - 12s 4s/step - loss: 0.4709 - accuracy: 0.7975 - val_loss: 0.4397 - val_accuracy: 0.8244\n",
            "Epoch 43/100\n",
            "2/2 [==============================] - 13s 6s/step - loss: 0.4562 - accuracy: 0.8024 - val_loss: 0.4299 - val_accuracy: 0.8267\n",
            "Epoch 44/100\n",
            "2/2 [==============================] - 13s 7s/step - loss: 0.4514 - accuracy: 0.8051 - val_loss: 0.4276 - val_accuracy: 0.8278\n",
            "Epoch 45/100\n",
            "2/2 [==============================] - 12s 6s/step - loss: 0.4414 - accuracy: 0.8043 - val_loss: 0.4061 - val_accuracy: 0.8322\n",
            "Epoch 46/100\n",
            "2/2 [==============================] - 11s 5s/step - loss: 0.4343 - accuracy: 0.8130 - val_loss: 0.4011 - val_accuracy: 0.8389\n",
            "Epoch 47/100\n",
            "2/2 [==============================] - 12s 4s/step - loss: 0.4259 - accuracy: 0.8148 - val_loss: 0.4087 - val_accuracy: 0.8378\n",
            "Epoch 48/100\n",
            "2/2 [==============================] - 12s 4s/step - loss: 0.4236 - accuracy: 0.8211 - val_loss: 0.4080 - val_accuracy: 0.8278\n",
            "Epoch 49/100\n",
            "2/2 [==============================] - 15s 5s/step - loss: 0.4264 - accuracy: 0.8137 - val_loss: 0.4056 - val_accuracy: 0.8400\n",
            "Epoch 50/100\n",
            "2/2 [==============================] - 13s 6s/step - loss: 0.4131 - accuracy: 0.8192 - val_loss: 0.3809 - val_accuracy: 0.8378\n",
            "Epoch 51/100\n",
            "2/2 [==============================] - 12s 6s/step - loss: 0.4080 - accuracy: 0.8224 - val_loss: 0.3828 - val_accuracy: 0.8367\n",
            "Epoch 52/100\n",
            "2/2 [==============================] - 11s 5s/step - loss: 0.3974 - accuracy: 0.8270 - val_loss: 0.3782 - val_accuracy: 0.8378\n",
            "Epoch 53/100\n",
            "2/2 [==============================] - 13s 5s/step - loss: 0.4068 - accuracy: 0.8241 - val_loss: 0.3983 - val_accuracy: 0.8367\n",
            "Epoch 54/100\n",
            "2/2 [==============================] - 12s 4s/step - loss: 0.4082 - accuracy: 0.8225 - val_loss: 0.3978 - val_accuracy: 0.8267\n",
            "Epoch 55/100\n",
            "2/2 [==============================] - 12s 4s/step - loss: 0.4023 - accuracy: 0.8254 - val_loss: 0.4253 - val_accuracy: 0.8256\n",
            "Epoch 56/100\n",
            "2/2 [==============================] - 13s 6s/step - loss: 0.4348 - accuracy: 0.8095 - val_loss: 0.4249 - val_accuracy: 0.8033\n",
            "Epoch 57/100\n",
            "2/2 [==============================] - 12s 6s/step - loss: 0.4183 - accuracy: 0.8075 - val_loss: 0.4060 - val_accuracy: 0.8333\n",
            "Epoch 58/100\n",
            "2/2 [==============================] - 12s 6s/step - loss: 0.4118 - accuracy: 0.8235 - val_loss: 0.3972 - val_accuracy: 0.8200\n",
            "Epoch 59/100\n",
            "2/2 [==============================] - 12s 4s/step - loss: 0.4035 - accuracy: 0.8159 - val_loss: 0.3844 - val_accuracy: 0.8467\n",
            "Epoch 60/100\n",
            "2/2 [==============================] - 12s 4s/step - loss: 0.3895 - accuracy: 0.8400 - val_loss: 0.3607 - val_accuracy: 0.8533\n",
            "Epoch 61/100\n",
            "2/2 [==============================] - 12s 4s/step - loss: 0.3808 - accuracy: 0.8421 - val_loss: 0.3558 - val_accuracy: 0.8489\n",
            "Epoch 62/100\n",
            "2/2 [==============================] - 13s 6s/step - loss: 0.3696 - accuracy: 0.8410 - val_loss: 0.3646 - val_accuracy: 0.8500\n",
            "Epoch 63/100\n",
            "2/2 [==============================] - 13s 7s/step - loss: 0.3709 - accuracy: 0.8452 - val_loss: 0.3541 - val_accuracy: 0.8556\n",
            "Epoch 64/100\n",
            "2/2 [==============================] - 12s 6s/step - loss: 0.3644 - accuracy: 0.8427 - val_loss: 0.3466 - val_accuracy: 0.8589\n",
            "Epoch 65/100\n",
            "2/2 [==============================] - 11s 4s/step - loss: 0.3548 - accuracy: 0.8478 - val_loss: 0.3524 - val_accuracy: 0.8533\n",
            "Epoch 66/100\n",
            "2/2 [==============================] - 14s 5s/step - loss: 0.3533 - accuracy: 0.8514 - val_loss: 0.3483 - val_accuracy: 0.8644\n",
            "Epoch 67/100\n",
            "2/2 [==============================] - 12s 4s/step - loss: 0.3484 - accuracy: 0.8525 - val_loss: 0.3456 - val_accuracy: 0.8611\n",
            "Epoch 68/100\n",
            "2/2 [==============================] - 12s 4s/step - loss: 0.3467 - accuracy: 0.8563 - val_loss: 0.3444 - val_accuracy: 0.8456\n",
            "Epoch 69/100\n",
            "2/2 [==============================] - 12s 5s/step - loss: 0.3435 - accuracy: 0.8543 - val_loss: 0.3388 - val_accuracy: 0.8656\n",
            "Epoch 70/100\n",
            "2/2 [==============================] - 12s 6s/step - loss: 0.3362 - accuracy: 0.8619 - val_loss: 0.3430 - val_accuracy: 0.8589\n",
            "Epoch 71/100\n",
            "2/2 [==============================] - 11s 5s/step - loss: 0.3352 - accuracy: 0.8633 - val_loss: 0.3520 - val_accuracy: 0.8467\n",
            "Epoch 72/100\n",
            "2/2 [==============================] - 12s 4s/step - loss: 0.3349 - accuracy: 0.8622 - val_loss: 0.3383 - val_accuracy: 0.8700\n",
            "Epoch 73/100\n",
            "2/2 [==============================] - 12s 4s/step - loss: 0.3373 - accuracy: 0.8617 - val_loss: 0.3362 - val_accuracy: 0.8678\n",
            "Epoch 74/100\n",
            "2/2 [==============================] - 12s 5s/step - loss: 0.3245 - accuracy: 0.8679 - val_loss: 0.3430 - val_accuracy: 0.8500\n",
            "Epoch 75/100\n",
            "2/2 [==============================] - 12s 6s/step - loss: 0.3230 - accuracy: 0.8679 - val_loss: 0.3332 - val_accuracy: 0.8689\n",
            "Epoch 76/100\n",
            "2/2 [==============================] - 12s 6s/step - loss: 0.3244 - accuracy: 0.8671 - val_loss: 0.3660 - val_accuracy: 0.8489\n",
            "Epoch 77/100\n",
            "2/2 [==============================] - 11s 4s/step - loss: 0.3458 - accuracy: 0.8533 - val_loss: 0.3650 - val_accuracy: 0.8278\n",
            "Epoch 78/100\n",
            "2/2 [==============================] - 13s 5s/step - loss: 0.3359 - accuracy: 0.8565 - val_loss: 0.3503 - val_accuracy: 0.8533\n",
            "Epoch 79/100\n",
            "2/2 [==============================] - 12s 4s/step - loss: 0.3428 - accuracy: 0.8563 - val_loss: 0.3326 - val_accuracy: 0.8722\n",
            "Epoch 80/100\n",
            "2/2 [==============================] - 12s 4s/step - loss: 0.3171 - accuracy: 0.8671 - val_loss: 0.3397 - val_accuracy: 0.8611\n",
            "Epoch 81/100\n",
            "2/2 [==============================] - 12s 6s/step - loss: 0.3173 - accuracy: 0.8732 - val_loss: 0.3278 - val_accuracy: 0.8644\n",
            "Epoch 82/100\n",
            "2/2 [==============================] - 12s 6s/step - loss: 0.3070 - accuracy: 0.8744 - val_loss: 0.3544 - val_accuracy: 0.8544\n",
            "Epoch 83/100\n",
            "2/2 [==============================] - 12s 5s/step - loss: 0.3109 - accuracy: 0.8763 - val_loss: 0.3380 - val_accuracy: 0.8611\n",
            "Epoch 84/100\n",
            "2/2 [==============================] - 14s 6s/step - loss: 0.3098 - accuracy: 0.8770 - val_loss: 0.3545 - val_accuracy: 0.8511\n",
            "Epoch 85/100\n",
            "2/2 [==============================] - 12s 4s/step - loss: 0.3063 - accuracy: 0.8786 - val_loss: 0.3315 - val_accuracy: 0.8722\n",
            "Epoch 86/100\n",
            "2/2 [==============================] - 12s 4s/step - loss: 0.2888 - accuracy: 0.8857 - val_loss: 0.3222 - val_accuracy: 0.8744\n",
            "Epoch 87/100\n",
            "2/2 [==============================] - 13s 6s/step - loss: 0.2839 - accuracy: 0.8916 - val_loss: 0.3206 - val_accuracy: 0.8689\n",
            "Epoch 88/100\n",
            "2/2 [==============================] - 13s 7s/step - loss: 0.2785 - accuracy: 0.8903 - val_loss: 0.3267 - val_accuracy: 0.8722\n",
            "Epoch 89/100\n",
            "2/2 [==============================] - 12s 6s/step - loss: 0.2765 - accuracy: 0.8919 - val_loss: 0.3290 - val_accuracy: 0.8722\n",
            "Epoch 90/100\n",
            "2/2 [==============================] - 11s 5s/step - loss: 0.2735 - accuracy: 0.8938 - val_loss: 0.3190 - val_accuracy: 0.8756\n",
            "Epoch 91/100\n",
            "2/2 [==============================] - 12s 4s/step - loss: 0.2664 - accuracy: 0.8997 - val_loss: 0.3270 - val_accuracy: 0.8744\n",
            "Epoch 92/100\n",
            "2/2 [==============================] - 13s 5s/step - loss: 0.2612 - accuracy: 0.9025 - val_loss: 0.3593 - val_accuracy: 0.8578\n",
            "Epoch 93/100\n",
            "2/2 [==============================] - 13s 4s/step - loss: 0.3620 - accuracy: 0.8468 - val_loss: 0.3614 - val_accuracy: 0.8778\n",
            "Epoch 94/100\n",
            "2/2 [==============================] - 12s 5s/step - loss: 0.3750 - accuracy: 0.8637 - val_loss: 0.4195 - val_accuracy: 0.8233\n",
            "Epoch 95/100\n",
            "2/2 [==============================] - 13s 6s/step - loss: 0.3788 - accuracy: 0.8583 - val_loss: 0.3613 - val_accuracy: 0.8478\n",
            "Epoch 96/100\n",
            "2/2 [==============================] - 11s 5s/step - loss: 0.3189 - accuracy: 0.8659 - val_loss: 0.4860 - val_accuracy: 0.8378\n",
            "Epoch 97/100\n",
            "2/2 [==============================] - 12s 4s/step - loss: 0.4084 - accuracy: 0.8573 - val_loss: 0.4103 - val_accuracy: 0.8267\n",
            "Epoch 98/100\n",
            "2/2 [==============================] - 13s 5s/step - loss: 0.3267 - accuracy: 0.8676 - val_loss: 0.3664 - val_accuracy: 0.8511\n",
            "Epoch 99/100\n",
            "2/2 [==============================] - 13s 4s/step - loss: 0.3312 - accuracy: 0.8687 - val_loss: 0.3194 - val_accuracy: 0.8689\n",
            "Epoch 100/100\n",
            "2/2 [==============================] - 13s 6s/step - loss: 0.2981 - accuracy: 0.8881 - val_loss: 0.3385 - val_accuracy: 0.8644\n"
          ]
        }
      ],
      "source": [
        "# Model training\n",
        "from sklearn.utils import shuffle\n",
        "from keras.callbacks import EarlyStopping\n",
        "\n",
        "lstm_model4_history = lstm_model4.fit(X_train, y_train, batch_size=4000, epochs=100, verbose=1, validation_data=(X_val,y_val))"
      ]
    },
    {
      "cell_type": "code",
      "execution_count": null,
      "metadata": {
        "colab": {
          "base_uri": "https://localhost:8080/"
        },
        "id": "WmyijgDI7vex",
        "outputId": "66726c4f-a7cf-42b5-d2b6-a716d42e7f54"
      },
      "outputs": [
        {
          "output_type": "stream",
          "name": "stdout",
          "text": [
            "57/57 [==============================] - 3s 57ms/step - loss: 0.3767 - accuracy: 0.8500\n"
          ]
        }
      ],
      "source": [
        "\n",
        "# Predictions on the Test Set\n",
        "\n",
        "score_lstm_model4= lstm_model4.evaluate(X_test, y_test, verbose=1)"
      ]
    },
    {
      "cell_type": "code",
      "execution_count": null,
      "metadata": {
        "colab": {
          "base_uri": "https://localhost:8080/"
        },
        "id": "H0aYK6Bi7vey",
        "outputId": "a3ff7c25-279b-473e-b759-48290993742d"
      },
      "outputs": [
        {
          "output_type": "stream",
          "name": "stdout",
          "text": [
            "Test Accuracy: 85.00%\n",
            "Test Loss: 37.67%\n"
          ]
        }
      ],
      "source": [
        "print(\"Test Accuracy: %.2f%%\" % (score_lstm_model4[1]*100))\n",
        "print(\"Test Loss: %.2f%%\" % (score_lstm_model4[0]*100))"
      ]
    },
    {
      "cell_type": "code",
      "execution_count": null,
      "metadata": {
        "colab": {
          "base_uri": "https://localhost:8080/",
          "height": 472
        },
        "id": "Nzrvdb967vey",
        "outputId": "7c28a465-6dc9-4b17-c73c-0a62ef7921ba"
      },
      "outputs": [
        {
          "output_type": "display_data",
          "data": {
            "text/plain": [
              "<Figure size 640x480 with 1 Axes>"
            ],
            "image/png": "[encoded data removed]"
          },
          "metadata": {}
        }
      ],
      "source": [
        "from matplotlib import pyplot as plt\n",
        "loss = lstm_model4_history.history['loss']\n",
        "val_loss = lstm_model4_history.history['val_loss']\n",
        "epochs = range(1, len(loss) + 1)\n",
        "plt.plot(epochs, loss, 'g', label='Training loss')\n",
        "plt.plot(epochs, val_loss, 'r', label='Validation loss')\n",
        "plt.title('Training and validation loss')\n",
        "plt.xlabel('Epochs')\n",
        "plt.legend()\n",
        "plt.grid()\n",
        "plt.show()"
      ]
    },
    {
      "cell_type": "code",
      "execution_count": null,
      "metadata": {
        "colab": {
          "base_uri": "https://localhost:8080/",
          "height": 472
        },
        "id": "ADoGy_vx7vey",
        "outputId": "4f5341a8-027d-4916-e254-8bb40eaccc8d"
      },
      "outputs": [
        {
          "output_type": "display_data",
          "data": {
            "text/plain": [
              "<Figure size 640x480 with 1 Axes>"
            ],
            "image/png": "[encoded data removed]"
          },
          "metadata": {}
        }
      ],
      "source": [
        "from matplotlib import pyplot as plt\n",
        "loss = lstm_model4_history.history['accuracy']\n",
        "val_loss = lstm_model4_history.history['val_accuracy']\n",
        "epochs = range(1, len(loss) + 1)\n",
        "plt.plot(epochs, loss, 'g', label='Training accuracy')\n",
        "plt.plot(epochs, val_loss, 'r', label='Validation accuracy')\n",
        "plt.title('Training and validation accuracy')\n",
        "plt.xlabel('Epochs')\n",
        "plt.legend()\n",
        "plt.grid()\n",
        "plt.show()"
      ]
    },
    {
      "cell_type": "code",
      "source": [
        "import numpy as np\n",
        "from sklearn.metrics import confusion_matrix, ConfusionMatrixDisplay\n",
        "import matplotlib.pyplot as plt\n",
        "\n",
        "# Make predictions for the test sets\n",
        "y_true = lstm_model4.predict(X_test)\n",
        "\n",
        "# Convert probabilities to binary labels\n",
        "y_true = (y_true > 0.5).astype(int)\n",
        "\n",
        "# Compute confusion matrices\n",
        "cm_test = confusion_matrix(y_test, y_true)\n",
        "\n",
        "# Display the confusion matrix for the test set\n",
        "disp_test = ConfusionMatrixDisplay(confusion_matrix=cm_test, display_labels=['Positive', 'Negative'])\n",
        "disp_test.plot(cmap=plt.cm.Blues)\n",
        "plt.title(\"Confusion Matrix - Test Set\")\n",
        "plt.show()"
      ],
      "metadata": {
        "colab": {
          "base_uri": "https://localhost:8080/",
          "height": 490
        },
        "id": "8sHOIjmE7vey",
        "outputId": "58f625c0-ca9c-44e4-ce6a-ec5f06a8265d"
      },
      "execution_count": null,
      "outputs": [
        {
          "output_type": "stream",
          "name": "stdout",
          "text": [
            "57/57 [==============================] - 4s 54ms/step\n"
          ]
        },
        {
          "output_type": "display_data",
          "data": {
            "text/plain": [
              "<Figure size 640x480 with 2 Axes>"
            ],
            "image/png": "[encoded data removed]"
          },
          "metadata": {}
        }
      ]
    },
    {
      "cell_type": "code",
      "source": [
        "from sklearn.metrics import confusion_matrix, ConfusionMatrixDisplay, classification_report\n",
        "\n",
        "# Print classification report for the test set\n",
        "print(\"Classification Report\")\n",
        "print(classification_report(y_test, y_true, target_names=['Negative', 'Positive']))"
      ],
      "metadata": {
        "colab": {
          "base_uri": "https://localhost:8080/"
        },
        "id": "HxnqDltn7vez",
        "outputId": "a9be4a28-53fa-4a62-dd08-552b92bae6ac"
      },
      "execution_count": null,
      "outputs": [
        {
          "output_type": "stream",
          "name": "stdout",
          "text": [
            "Classification Report\n",
            "              precision    recall  f1-score   support\n",
            "\n",
            "    Negative       0.91      0.78      0.84       900\n",
            "    Positive       0.80      0.92      0.86       900\n",
            "\n",
            "    accuracy                           0.85      1800\n",
            "   macro avg       0.86      0.85      0.85      1800\n",
            "weighted avg       0.86      0.85      0.85      1800\n",
            "\n"
          ]
        }
      ]
    }
  ]
}